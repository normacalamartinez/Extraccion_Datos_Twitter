{
 "cells": [
  {
   "cell_type": "markdown",
   "metadata": {},
   "source": [
    "------"
   ]
  },
  {
   "cell_type": "markdown",
   "metadata": {},
   "source": [
    " <center><h1>🐦 Extraer Tuits 🐦 </center> \n",
    "\n",
    "    \n",
    "<br><b>Creador:</b> Norma Yuliana Cala Martínez\n",
    "<br><b>Email: </b> normisss11@gmail.com\n",
    "<br><b>Fecha creacion:</b> Noviembre 12, 2020"
   ]
  },
  {
   "cell_type": "markdown",
   "metadata": {},
   "source": [
    "### Punto 1: Extraer Tuits\n",
    "Extraer mínimo 100 tuits de Twitter usando la API\n"
   ]
  },
  {
   "cell_type": "markdown",
   "metadata": {},
   "source": [
    "# Autenticarse con Twitter"
   ]
  },
  {
   "cell_type": "code",
   "execution_count": 34,
   "metadata": {},
   "outputs": [],
   "source": [
    "#!pip install tweepy\n",
    "import pandas as pd \n",
    "import tweepy"
   ]
  },
  {
   "cell_type": "code",
   "execution_count": 35,
   "metadata": {},
   "outputs": [],
   "source": [
    "# Leer keys\n",
    "keys = pd.read_csv(\"Twitter_Keys_Text.csv\", header=None)\n",
    "keys = dict(zip(keys[0],keys[1]))"
   ]
  },
  {
   "cell_type": "code",
   "execution_count": 36,
   "metadata": {},
   "outputs": [],
   "source": [
    "# Autorizar a través API\n",
    "auth = tweepy.OAuthHandler(keys['api_key'], keys['api_secret_key'])\n",
    "auth.set_access_token(keys['access_token'], keys['access_token_secret'])\n",
    "api = tweepy.API(auth, wait_on_rate_limit=True)"
   ]
  },
  {
   "cell_type": "code",
   "execution_count": null,
   "metadata": {
    "scrolled": true
   },
   "outputs": [],
   "source": [
    "api.update_status('La mejor clase es NLP.')"
   ]
  },
  {
   "cell_type": "markdown",
   "metadata": {},
   "source": [
    "## Datos de la Red social de Twitter. "
   ]
  },
  {
   "cell_type": "code",
   "execution_count": 39,
   "metadata": {},
   "outputs": [],
   "source": [
    "# Tema seleccionado son las eliminatorias al mundial de futbol.  ⚽\n",
    "tweets = tweepy.Cursor(api.search,\n",
    "                       q=['eliminatorias -RT'],\n",
    "                       lang='es',\n",
    "                       geocode=f'9.304744,-75.397778,45mi',\n",
    "                       tweet_mode='extended',\n",
    "                       include_rts=False).items(200)"
   ]
  },
  {
   "cell_type": "code",
   "execution_count": 40,
   "metadata": {},
   "outputs": [],
   "source": [
    "t = []\n",
    "\n",
    "for tweet in tweets:\n",
    "    temp = []\n",
    "    temp.append(tweet.full_text)\n",
    "    temp.append(tweet.created_at)\n",
    "    temp.append(\"colombia\")\n",
    "    temp.append(tweet.user.location)\n",
    "    temp.append(tweet.id)\n",
    "    temp.append(f\"https://twitter.com/i/web/status/{tweet.id}\")\n",
    "    \n",
    "    t.append(temp)"
   ]
  },
  {
   "cell_type": "code",
   "execution_count": 41,
   "metadata": {},
   "outputs": [
    {
     "data": {
      "text/plain": [
       "[['¡ATENCIÓN! #DEPORTES \\nEliminatorias Sudamericanas: la Selección de Chile venció 2-0 a Perú en la fecha 3\\nConozcas más detalles aquí en #ChicaNoticias \\nhttps://t.co/bYsjJaBwIQ',\n",
       "  datetime.datetime(2020, 11, 14, 1, 58, 28),\n",
       "  'colombia',\n",
       "  'Córdoba, Colombia',\n",
       "  1327430669589471233,\n",
       "  'https://twitter.com/i/web/status/1327430669589471233'],\n",
       " ['Observando a las otras selecciones en las eliminatorias, juegan con una intensidad con mucha presión a los rivales, algo que #Colombia carece; Van a estar bien complicado para los nuestros. Hoy jugaron sin alma, una falta de respeto al país futbolero. https://t.co/8EdtfG923D',\n",
       "  datetime.datetime(2020, 11, 14, 0, 53, 39),\n",
       "  'colombia',\n",
       "  'Montería, Colombia',\n",
       "  1327414355143626752,\n",
       "  'https://twitter.com/i/web/status/1327414355143626752'],\n",
       " ['Primer partido que me veo de Colombia en las eliminatorias y pierde 😒🙄',\n",
       "  datetime.datetime(2020, 11, 14, 0, 2, 18),\n",
       "  'colombia',\n",
       "  'Sahagún, Colombia',\n",
       "  1327401433185083398,\n",
       "  'https://twitter.com/i/web/status/1327401433185083398'],\n",
       " ['#COLURU Eliminatorias Sudamericanas: Colombia cae en Barranquilla ante Uruguay Balón de fútbol\\nLa selección dirigida por Óscar Washington Tabárez derrotó por marcador de 0-3 a su similar colombiano en la tercera fecha de las eliminatorias de la Conmebol rumbo a la Copa del Mundo https://t.co/775sgBhOyM',\n",
       "  datetime.datetime(2020, 11, 13, 23, 52, 46),\n",
       "  'colombia',\n",
       "  'lorica córdoba colombia',\n",
       "  1327399035356008448,\n",
       "  'https://twitter.com/i/web/status/1327399035356008448'],\n",
       " ['!MUCHA ATENCIÓN! #NACIONAL #DEPORTES\\n¡Nos complicamos! Así quedó la tabla de las Eliminatorias tras derrota de Colombia con Uruguay\\nConozca más detalles aquí en #CHN\\nhttps://t.co/HlwwPYI0Ie',\n",
       "  datetime.datetime(2020, 11, 13, 23, 27, 26),\n",
       "  'colombia',\n",
       "  'Córdoba, Colombia',\n",
       "  1327392657728004096,\n",
       "  'https://twitter.com/i/web/status/1327392657728004096'],\n",
       " ['#EnVideo 🎥 La Selección de Uruguay se deshizo de su historial de derrotas en Barranquilla y goleo 0-3 a Colombia en el Metropolitano por la tercera fecha de las Eliminatorias rumbo a Qatar 2022. https://t.co/mxe4zqWp8I',\n",
       "  datetime.datetime(2020, 11, 13, 23, 11, 41),\n",
       "  'colombia',\n",
       "  'Montería, Colombia',\n",
       "  1327388695679406080,\n",
       "  'https://twitter.com/i/web/status/1327388695679406080'],\n",
       " ['#EnVideo 🎥 La Selección de Uruguay se deshizo de su historial de derrotas en Barranquilla y goleo 0-3 a Colombia en el Metropolitano por la tercera fecha de las Eliminatorias rumbo a Qatar 2022. https://t.co/YhL1ROu2Vb',\n",
       "  datetime.datetime(2020, 11, 13, 23, 11, 31),\n",
       "  'colombia',\n",
       "  'Montería - Colombia',\n",
       "  1327388654034149378,\n",
       "  'https://twitter.com/i/web/status/1327388654034149378'],\n",
       " ['Me parece que el DT no termina las eliminatorias completas.',\n",
       "  datetime.datetime(2020, 11, 13, 22, 36, 39),\n",
       "  'colombia',\n",
       "  'SAHAGUN CORDOBA',\n",
       "  1327379878707126272,\n",
       "  'https://twitter.com/i/web/status/1327379878707126272'],\n",
       " ['@jvg0884 @MelukLeCuenta Osea que en esta Eliminatorias se le olvido jugar ahí? \\nPorque con Pekerman volaban hasta un 3 a 0 remontaron y todos jugando en Europa también. 🤔',\n",
       "  datetime.datetime(2020, 11, 13, 22, 33, 3),\n",
       "  'colombia',\n",
       "  'Montería Córdoba',\n",
       "  1327378974645825537,\n",
       "  'https://twitter.com/i/web/status/1327378974645825537'],\n",
       " ['Lo bueno es que la tercera y cuarta fecha han sido problema durante las últimas 2 eliminatorias e igual se fue al mundial.',\n",
       "  datetime.datetime(2020, 11, 13, 22, 28, 31),\n",
       "  'colombia',\n",
       "  'Sincelejo, Colombia',\n",
       "  1327377832591454209,\n",
       "  'https://twitter.com/i/web/status/1327377832591454209'],\n",
       " ['@Mamayamojika @YeisonBenitez17 @dperezdeportes Pero tememos para pelear las eliminatorias sobrado y en las 2 eliminatorias seguidas lo demostraron, pero si los dirige alguien que no sabe ni donde está parado lo más lógico es el fracaso.',\n",
       "  datetime.datetime(2020, 11, 13, 22, 25, 55),\n",
       "  'colombia',\n",
       "  'Montería Córdoba',\n",
       "  1327377177197895682,\n",
       "  'https://twitter.com/i/web/status/1327377177197895682'],\n",
       " ['@carlosbloom Bloom, hoy si PERO revise los tres partidos de eliminatorias: \\n1 Venezuela ganamos con goleada\\n2. Chile empate de aborto\\n3. Uruguay perdiendo por goleada.\\n\\n¿Somos un equipo de jerarquía? ¿De verdad somos rivales directo? Tenemos nombres pero no juego.',\n",
       "  datetime.datetime(2020, 11, 13, 22, 24, 25),\n",
       "  'colombia',\n",
       "  'Magangué, Colombia',\n",
       "  1327376800520019970,\n",
       "  'https://twitter.com/i/web/status/1327376800520019970'],\n",
       " ['Y sigan creyendo que Colombia es favorita siempre en las eliminatorias...',\n",
       "  datetime.datetime(2020, 11, 13, 22, 21, 46),\n",
       "  'colombia',\n",
       "  'Montería, Colombia',\n",
       "  1327376136083566595,\n",
       "  'https://twitter.com/i/web/status/1327376136083566595'],\n",
       " ['3 partidos de eliminatorias y James ni se ve 🤣',\n",
       "  datetime.datetime(2020, 11, 13, 22, 19, 2),\n",
       "  'colombia',\n",
       "  'Sampues',\n",
       "  1327375447387238400,\n",
       "  'https://twitter.com/i/web/status/1327375447387238400'],\n",
       " [\"#ColombiaVsUruguay ¡Gol de #Uruguay! A los 4' anota Edinson Cavani y pone el 1-0 para los charrúas en la fecha 3 de las #Eliminatorias https://t.co/Nrl5DVclW4\",\n",
       "  datetime.datetime(2020, 11, 13, 20, 48, 13),\n",
       "  'colombia',\n",
       "  'Montería, Córdoba, Colombia.',\n",
       "  1327352592133976064,\n",
       "  'https://twitter.com/i/web/status/1327352592133976064'],\n",
       " ['Gobierno restringe la venta de licor por eliminatorias de fútbol https://t.co/ZaCQVMQ4pp https://t.co/OStiPhN7mH',\n",
       "  datetime.datetime(2020, 11, 13, 18, 59, 49),\n",
       "  'colombia',\n",
       "  'Montería, Colombia',\n",
       "  1327325311822950402,\n",
       "  'https://twitter.com/i/web/status/1327325311822950402'],\n",
       " ['#MiMensajeALaSelecciónEs que ganen como sea, así sea 1 a 0. Las eliminatorias de acá son durísimas.',\n",
       "  datetime.datetime(2020, 11, 13, 17, 26, 56),\n",
       "  'colombia',\n",
       "  'Lorica, Colombia',\n",
       "  1327301938199851009,\n",
       "  'https://twitter.com/i/web/status/1327301938199851009'],\n",
       " ['Vamos @FCFSeleccionCol \\n#ColombiavsUruguay\\n@Eliminatorias_ #ColombiaEsPasion https://t.co/KHLWwGtjt2',\n",
       "  datetime.datetime(2020, 11, 13, 12, 51, 20),\n",
       "  'colombia',\n",
       "  'Cereté, Colombia',\n",
       "  1327232578835910658,\n",
       "  'https://twitter.com/i/web/status/1327232578835910658'],\n",
       " ['El River de Gallardo 2018 con el plantel completo te gana las eliminatorias caminando.',\n",
       "  datetime.datetime(2020, 11, 13, 12, 23, 31),\n",
       "  'colombia',\n",
       "  'Cordoba, Buenos aires ',\n",
       "  1327225581080092672,\n",
       "  'https://twitter.com/i/web/status/1327225581080092672'],\n",
       " ['Yo le tengo una fe bárbara a la selección @FCFSeleccionCol 🇨🇴 no quiere decir que antes no se la haya tenido, solo que está vez siento que hará una mejor presentación en estas eliminatorias, que equipazo tenemos !!!',\n",
       "  datetime.datetime(2020, 11, 13, 2, 32, 37),\n",
       "  'colombia',\n",
       "  'Sahagun-Cordoba',\n",
       "  1327076875282374658,\n",
       "  'https://twitter.com/i/web/status/1327076875282374658'],\n",
       " ['Ver partidos de eliminatorias con mi papá es todo lo que está bien en la vida.',\n",
       "  datetime.datetime(2020, 11, 12, 23, 39, 34),\n",
       "  'colombia',\n",
       "  'Montería. ',\n",
       "  1327033324477566977,\n",
       "  'https://twitter.com/i/web/status/1327033324477566977'],\n",
       " ['Por algo son las eliminatorias mas dificiles del mundo 🤩🤩',\n",
       "  datetime.datetime(2020, 11, 12, 21, 30, 57),\n",
       "  'colombia',\n",
       "  'Sahagún, Colombia',\n",
       "  1327000958585495555,\n",
       "  'https://twitter.com/i/web/status/1327000958585495555'],\n",
       " ['Goool de Marcelo martins que marca en todas las eliminatorias desde 1950',\n",
       "  datetime.datetime(2020, 11, 12, 21, 23, 27),\n",
       "  'colombia',\n",
       "  'El uberrimo',\n",
       "  1326999072339873792,\n",
       "  'https://twitter.com/i/web/status/1326999072339873792'],\n",
       " ['La victoria parcial de Ecuador, nos obliga a sacar los 3 puntos mañana frente a Uruguay. Que lindas son las eliminatorias sudamericanas.',\n",
       "  datetime.datetime(2020, 11, 12, 21, 19, 1),\n",
       "  'colombia',\n",
       "  'Montería-Colombia',\n",
       "  1326997952888496130,\n",
       "  'https://twitter.com/i/web/status/1326997952888496130'],\n",
       " ['Ahí está Bolivia otra vez arrastrándose en las eliminatorias',\n",
       "  datetime.datetime(2020, 11, 12, 21, 18, 58),\n",
       "  'colombia',\n",
       "  'El uberrimo',\n",
       "  1326997941568086016,\n",
       "  'https://twitter.com/i/web/status/1326997941568086016'],\n",
       " ['Lo bueno de esta doble fecha de eliminatorias, vuelven a transmitir de a 2 partidos por día (así sea con los equipos malos). Lo Malo, desafortunadamente, siempre quedará 1 sin transmisión por el horario casi en simultaneo.',\n",
       "  datetime.datetime(2020, 11, 12, 20, 59, 37),\n",
       "  'colombia',\n",
       "  'Sincelejo, Sucre',\n",
       "  1326993071628759043,\n",
       "  'https://twitter.com/i/web/status/1326993071628759043'],\n",
       " ['Chevere cuando @CaracolTV transmitía todas las eliminatorias 😔',\n",
       "  datetime.datetime(2020, 11, 12, 17, 46, 7),\n",
       "  'colombia',\n",
       "  'Magangué, Colombia',\n",
       "  1326944376069763075,\n",
       "  'https://twitter.com/i/web/status/1326944376069763075'],\n",
       " ['El exentrenador uruguayo, Gerardo Pelusso, reconocido por su paso en Santa Fe se refirió a la selección Colombia previo a su duelo con Uruguay.\\n\\n#DeportesLaRazón #james #duvanzapata #uruguay #colombia #tricolor #barranquilla #col #gerardopelusso #pelusso #eliminatorias https://t.co/4xpgrXxiGp',\n",
       "  datetime.datetime(2020, 11, 12, 13, 41, 50),\n",
       "  'colombia',\n",
       "  'Montería - Colombia',\n",
       "  1326882898914533376,\n",
       "  'https://twitter.com/i/web/status/1326882898914533376'],\n",
       " ['¡Empieza la disputa! estos son los primeros encuentros de la  fecha 3 de las eliminatorias Conmebol rumbo a Qatar 2022 (hora colombiana).\\n\\n#DeportesLaRazon #argentina #paraguay #ecuador #bolivia #EliminatoriasSudamericanas https://t.co/qToSQfLnML',\n",
       "  datetime.datetime(2020, 11, 12, 13, 18, 37),\n",
       "  'colombia',\n",
       "  'Montería - Colombia',\n",
       "  1326877058836951042,\n",
       "  'https://twitter.com/i/web/status/1326877058836951042'],\n",
       " ['@javil9026 Cuando se consolidó en México, la dupla Macdólar y James nos clasificó al mundial de 2014, y poco a poco se fue metiendo Quintero, por ahí estuvo Cardona igual. Para el siguiente ciclo de eliminatorias, fue igual. Fue cosa de suerte.',\n",
       "  datetime.datetime(2020, 11, 12, 3, 22, 8),\n",
       "  'colombia',\n",
       "  'Sincelejo, Sucre',\n",
       "  1326726950136799232,\n",
       "  'https://twitter.com/i/web/status/1326726950136799232'],\n",
       " ['!MUCHA ATENCIÓN! #NACIONAL #DEPORTES\\nArquero David Ospina, en duda para partido Colombia-Uruguay por Eliminatorias \\nConozca  más detalles aquí en #CHN\\nhttps://t.co/Dz4LFtUrDX',\n",
       "  datetime.datetime(2020, 11, 10, 22, 10, 3),\n",
       "  'colombia',\n",
       "  'Córdoba, Colombia',\n",
       "  1326286023681314816,\n",
       "  'https://twitter.com/i/web/status/1326286023681314816'],\n",
       " ['👕 Nuevas camisetas del pentacampeón del mundo 🏆\\n\\n👕🇧🇷 @CBF_Futebol presentó sus nuevas camisetas de local y visitante para jugar las Eliminatorias Conmebol y otras competiciones 🟡🟢 https://t.co/vdtszlYrhU',\n",
       "  datetime.datetime(2020, 11, 9, 17, 57, 38),\n",
       "  'colombia',\n",
       "  'Córdoba, Colombia',\n",
       "  1325860110191702016,\n",
       "  'https://twitter.com/i/web/status/1325860110191702016'],\n",
       " ['Estos son los convocados de Colombia para las eliminatorias en los próximos partidos @FCFSeleccionCol \\nhttps://t.co/4ckjKxhv42',\n",
       "  datetime.datetime(2020, 11, 9, 16, 55, 6),\n",
       "  'colombia',\n",
       "  'Montería, Colombia',\n",
       "  1325844373150502918,\n",
       "  'https://twitter.com/i/web/status/1325844373150502918'],\n",
       " ['#Deportes Con Falcao ausente, Colombia definió convocatoria para fecha de Eliminatorias https://t.co/wmp8F48Fc8',\n",
       "  datetime.datetime(2020, 11, 9, 1, 25, 38),\n",
       "  'colombia',\n",
       "  'Montería, Colombia',\n",
       "  1325610465880313856,\n",
       "  'https://twitter.com/i/web/status/1325610465880313856'],\n",
       " ['Selección Colombia: esta es la complicada lesión de Jhon\\xa0Córdoba | Antena 2 https://t.co/YMThDpOgBd @FCFSeleccionCol',\n",
       "  datetime.datetime(2020, 11, 8, 22, 53, 49),\n",
       "  'colombia',\n",
       "  'sahagun cordoba colombia',\n",
       "  1325572259105415180,\n",
       "  'https://twitter.com/i/web/status/1325572259105415180'],\n",
       " ['Selección Colombia: esta es la complicada lesión de Jhon\\xa0Córdoba | Antena 2 https://t.co/YMThDpOgBd',\n",
       "  datetime.datetime(2020, 11, 8, 22, 53, 22),\n",
       "  'colombia',\n",
       "  'sahagun cordoba colombia',\n",
       "  1325572146819706887,\n",
       "  'https://twitter.com/i/web/status/1325572146819706887'],\n",
       " ['🚨¡ATENCIÓN!🚨\\n\\nLista de convocados por Carlos Queiroz para enfrentar a las selecciones de Uruguay y Ecuador por las eliminatorias al mundial de Qatar 2022.\\nNuevamente llamado el delantero cordobés, @morelos2106 https://t.co/qQYDG4yZtT',\n",
       "  datetime.datetime(2020, 11, 8, 21, 50, 57),\n",
       "  'colombia',\n",
       "  'Montería, Colombia',\n",
       "  1325556440380141568,\n",
       "  'https://twitter.com/i/web/status/1325556440380141568'],\n",
       " ['🚨¡ATENCIÓN!🚨\\n\\nLista de convocados por Carlos Queiroz para enfrentar a las selecciones de Uruguay y Ecuador por las eliminatorias al mundial de Qatar 2022.\\nNuevamente llamado el delantero cordobés, @morelos2106 https://t.co/qwMgD6q91E',\n",
       "  datetime.datetime(2020, 11, 8, 21, 50, 20),\n",
       "  'colombia',\n",
       "  'Córdoba, Colombia',\n",
       "  1325556283949322243,\n",
       "  'https://twitter.com/i/web/status/1325556283949322243'],\n",
       " ['Atención. 🇨🇴 Colombia se prepara para enfrentar a Uruguay y Ecuador en las próximas dos fechas de las Eliminatorias. Esta es la nómina de convocados. https://t.co/bj6pxfEej2',\n",
       "  datetime.datetime(2020, 11, 8, 21, 17, 23),\n",
       "  'colombia',\n",
       "  'Montería',\n",
       "  1325547994154995713,\n",
       "  'https://twitter.com/i/web/status/1325547994154995713'],\n",
       " ['Nueva alarma en la Selección Colombia:\\xa0Jhon\\xa0Córdoba sale lesionado | Antena 2 https://t.co/X7KBhX6CYB  @FCFSeleccionCol @Carlos_Queiroz #Colombia',\n",
       "  datetime.datetime(2020, 11, 7, 18, 15, 23),\n",
       "  'colombia',\n",
       "  'sahagun cordoba colombia',\n",
       "  1325139801209630721,\n",
       "  'https://twitter.com/i/web/status/1325139801209630721'],\n",
       " ['Nueva alarma en la Selección Colombia:\\xa0Jhon\\xa0Córdoba sale lesionado | Antena 2 https://t.co/X7KBhX6CYB',\n",
       "  datetime.datetime(2020, 11, 7, 18, 14, 57),\n",
       "  'colombia',\n",
       "  'sahagun cordoba colombia',\n",
       "  1325139695458676736,\n",
       "  'https://twitter.com/i/web/status/1325139695458676736'],\n",
       " ['Eliminatorias: partidos de la selección Colombia aumentaron casos de Covid-19 https://t.co/ou5uBA3Jeo https://t.co/qSqWNaU8tw',\n",
       "  datetime.datetime(2020, 11, 5, 21, 36, 47),\n",
       "  'colombia',\n",
       "  'Montería, Colombia',\n",
       "  1324465709796204551,\n",
       "  'https://twitter.com/i/web/status/1324465709796204551']]"
      ]
     },
     "execution_count": 41,
     "metadata": {},
     "output_type": "execute_result"
    }
   ],
   "source": [
    "t"
   ]
  },
  {
   "cell_type": "code",
   "execution_count": 42,
   "metadata": {
    "scrolled": true
   },
   "outputs": [
    {
     "data": {
      "text/html": [
       "<div>\n",
       "<style scoped>\n",
       "    .dataframe tbody tr th:only-of-type {\n",
       "        vertical-align: middle;\n",
       "    }\n",
       "\n",
       "    .dataframe tbody tr th {\n",
       "        vertical-align: top;\n",
       "    }\n",
       "\n",
       "    .dataframe thead th {\n",
       "        text-align: right;\n",
       "    }\n",
       "</style>\n",
       "<table border=\"1\" class=\"dataframe\">\n",
       "  <thead>\n",
       "    <tr style=\"text-align: right;\">\n",
       "      <th></th>\n",
       "      <th>tweet</th>\n",
       "      <th>date</th>\n",
       "      <th>city</th>\n",
       "      <th>user_location</th>\n",
       "      <th>id</th>\n",
       "      <th>link</th>\n",
       "    </tr>\n",
       "  </thead>\n",
       "  <tbody>\n",
       "    <tr>\n",
       "      <th>0</th>\n",
       "      <td>¡ATENCIÓN! #DEPORTES \\nEliminatorias Sudameric...</td>\n",
       "      <td>2020-11-14 01:58:28</td>\n",
       "      <td>colombia</td>\n",
       "      <td>Córdoba, Colombia</td>\n",
       "      <td>1327430669589471233</td>\n",
       "      <td>https://twitter.com/i/web/status/1327430669589...</td>\n",
       "    </tr>\n",
       "    <tr>\n",
       "      <th>1</th>\n",
       "      <td>Observando a las otras selecciones en las elim...</td>\n",
       "      <td>2020-11-14 00:53:39</td>\n",
       "      <td>colombia</td>\n",
       "      <td>Montería, Colombia</td>\n",
       "      <td>1327414355143626752</td>\n",
       "      <td>https://twitter.com/i/web/status/1327414355143...</td>\n",
       "    </tr>\n",
       "    <tr>\n",
       "      <th>2</th>\n",
       "      <td>Primer partido que me veo de Colombia en las e...</td>\n",
       "      <td>2020-11-14 00:02:18</td>\n",
       "      <td>colombia</td>\n",
       "      <td>Sahagún, Colombia</td>\n",
       "      <td>1327401433185083398</td>\n",
       "      <td>https://twitter.com/i/web/status/1327401433185...</td>\n",
       "    </tr>\n",
       "    <tr>\n",
       "      <th>3</th>\n",
       "      <td>#COLURU Eliminatorias Sudamericanas: Colombia ...</td>\n",
       "      <td>2020-11-13 23:52:46</td>\n",
       "      <td>colombia</td>\n",
       "      <td>lorica córdoba colombia</td>\n",
       "      <td>1327399035356008448</td>\n",
       "      <td>https://twitter.com/i/web/status/1327399035356...</td>\n",
       "    </tr>\n",
       "    <tr>\n",
       "      <th>4</th>\n",
       "      <td>!MUCHA ATENCIÓN! #NACIONAL #DEPORTES\\n¡Nos com...</td>\n",
       "      <td>2020-11-13 23:27:26</td>\n",
       "      <td>colombia</td>\n",
       "      <td>Córdoba, Colombia</td>\n",
       "      <td>1327392657728004096</td>\n",
       "      <td>https://twitter.com/i/web/status/1327392657728...</td>\n",
       "    </tr>\n",
       "  </tbody>\n",
       "</table>\n",
       "</div>"
      ],
      "text/plain": [
       "                                               tweet                date  \\\n",
       "0  ¡ATENCIÓN! #DEPORTES \\nEliminatorias Sudameric... 2020-11-14 01:58:28   \n",
       "1  Observando a las otras selecciones en las elim... 2020-11-14 00:53:39   \n",
       "2  Primer partido que me veo de Colombia en las e... 2020-11-14 00:02:18   \n",
       "3  #COLURU Eliminatorias Sudamericanas: Colombia ... 2020-11-13 23:52:46   \n",
       "4  !MUCHA ATENCIÓN! #NACIONAL #DEPORTES\\n¡Nos com... 2020-11-13 23:27:26   \n",
       "\n",
       "       city            user_location                   id  \\\n",
       "0  colombia        Córdoba, Colombia  1327430669589471233   \n",
       "1  colombia       Montería, Colombia  1327414355143626752   \n",
       "2  colombia        Sahagún, Colombia  1327401433185083398   \n",
       "3  colombia  lorica córdoba colombia  1327399035356008448   \n",
       "4  colombia        Córdoba, Colombia  1327392657728004096   \n",
       "\n",
       "                                                link  \n",
       "0  https://twitter.com/i/web/status/1327430669589...  \n",
       "1  https://twitter.com/i/web/status/1327414355143...  \n",
       "2  https://twitter.com/i/web/status/1327401433185...  \n",
       "3  https://twitter.com/i/web/status/1327399035356...  \n",
       "4  https://twitter.com/i/web/status/1327392657728...  "
      ]
     },
     "execution_count": 42,
     "metadata": {},
     "output_type": "execute_result"
    }
   ],
   "source": [
    "data = pd.DataFrame(t)\n",
    "data.columns = ['tweet', 'date', 'city', 'user_location', 'id', 'link']\n",
    "data.head()"
   ]
  },
  {
   "cell_type": "code",
   "execution_count": 43,
   "metadata": {},
   "outputs": [],
   "source": [
    "# Exportar datos.\n",
    "data.to_csv(\"datos13112020.csv\", index=False)"
   ]
  },
  {
   "cell_type": "markdown",
   "metadata": {},
   "source": [
    "##  Pre-procesamiento para Twitter \n",
    "⚽"
   ]
  },
  {
   "cell_type": "code",
   "execution_count": 10,
   "metadata": {
    "scrolled": true
   },
   "outputs": [
    {
     "data": {
      "text/html": [
       "<div>\n",
       "<style scoped>\n",
       "    .dataframe tbody tr th:only-of-type {\n",
       "        vertical-align: middle;\n",
       "    }\n",
       "\n",
       "    .dataframe tbody tr th {\n",
       "        vertical-align: top;\n",
       "    }\n",
       "\n",
       "    .dataframe thead th {\n",
       "        text-align: right;\n",
       "    }\n",
       "</style>\n",
       "<table border=\"1\" class=\"dataframe\">\n",
       "  <thead>\n",
       "    <tr style=\"text-align: right;\">\n",
       "      <th></th>\n",
       "      <th>tweet</th>\n",
       "      <th>date</th>\n",
       "      <th>city</th>\n",
       "    </tr>\n",
       "  </thead>\n",
       "  <tbody>\n",
       "    <tr>\n",
       "      <th>0</th>\n",
       "      <td>¡ATENCIÓN! #DEPORTES \\nEliminatorias Sudameric...</td>\n",
       "      <td>2020-11-14 01:58:28</td>\n",
       "      <td>colombia</td>\n",
       "    </tr>\n",
       "    <tr>\n",
       "      <th>1</th>\n",
       "      <td>Observando a las otras selecciones en las elim...</td>\n",
       "      <td>2020-11-14 00:53:39</td>\n",
       "      <td>colombia</td>\n",
       "    </tr>\n",
       "    <tr>\n",
       "      <th>2</th>\n",
       "      <td>Primer partido que me veo de Colombia en las e...</td>\n",
       "      <td>2020-11-14 00:02:18</td>\n",
       "      <td>colombia</td>\n",
       "    </tr>\n",
       "    <tr>\n",
       "      <th>3</th>\n",
       "      <td>#COLURU Eliminatorias Sudamericanas: Colombia ...</td>\n",
       "      <td>2020-11-13 23:52:46</td>\n",
       "      <td>colombia</td>\n",
       "    </tr>\n",
       "    <tr>\n",
       "      <th>4</th>\n",
       "      <td>!MUCHA ATENCIÓN! #NACIONAL #DEPORTES\\n¡Nos com...</td>\n",
       "      <td>2020-11-13 23:27:26</td>\n",
       "      <td>colombia</td>\n",
       "    </tr>\n",
       "  </tbody>\n",
       "</table>\n",
       "</div>"
      ],
      "text/plain": [
       "                                               tweet                date  \\\n",
       "0  ¡ATENCIÓN! #DEPORTES \\nEliminatorias Sudameric... 2020-11-14 01:58:28   \n",
       "1  Observando a las otras selecciones en las elim... 2020-11-14 00:53:39   \n",
       "2  Primer partido que me veo de Colombia en las e... 2020-11-14 00:02:18   \n",
       "3  #COLURU Eliminatorias Sudamericanas: Colombia ... 2020-11-13 23:52:46   \n",
       "4  !MUCHA ATENCIÓN! #NACIONAL #DEPORTES\\n¡Nos com... 2020-11-13 23:27:26   \n",
       "\n",
       "       city  \n",
       "0  colombia  \n",
       "1  colombia  \n",
       "2  colombia  \n",
       "3  colombia  \n",
       "4  colombia  "
      ]
     },
     "execution_count": 10,
     "metadata": {},
     "output_type": "execute_result"
    }
   ],
   "source": [
    "data = data[['tweet', 'date', 'city']]\n",
    "data.head()"
   ]
  },
  {
   "cell_type": "markdown",
   "metadata": {},
   "source": [
    "### Quitar links, menciones, hashtags, Quitar emojis"
   ]
  },
  {
   "cell_type": "code",
   "execution_count": 11,
   "metadata": {},
   "outputs": [],
   "source": [
    "import re\n",
    "\n",
    "pattern1 = '?P<pic>pic.twitter.com/[^\\s]+'\n",
    "pattern2 = '?P<url>https?://[^\\s]+'\n",
    "\n",
    "def text_clean(row):\n",
    "    text = row['tweet']\n",
    "    \n",
    "    links = [tuple(j for j in i if j)[-1] for i in re.findall(f\"({pattern1})|({pattern2})\",text)]\n",
    "    for link in links:\n",
    "        text = text.replace(link,\"\")\n",
    "             \n",
    "    hashtags = [interaction for interaction in text.split() if interaction.startswith(\"#\")]\n",
    "    for hashtag in hashtags:\n",
    "        text = text.replace(hashtag,\"\")\n",
    "        \n",
    "    mentions = [interaction for interaction in text.split() if interaction.startswith(\"@\")]\n",
    "    for mention in mentions:\n",
    "        text = text.replace(mention,\"\")\n",
    "        \n",
    "    return text, links, hashtags, mentions"
   ]
  },
  {
   "cell_type": "code",
   "execution_count": 12,
   "metadata": {},
   "outputs": [
    {
     "data": {
      "text/html": [
       "<div>\n",
       "<style scoped>\n",
       "    .dataframe tbody tr th:only-of-type {\n",
       "        vertical-align: middle;\n",
       "    }\n",
       "\n",
       "    .dataframe tbody tr th {\n",
       "        vertical-align: top;\n",
       "    }\n",
       "\n",
       "    .dataframe thead th {\n",
       "        text-align: right;\n",
       "    }\n",
       "</style>\n",
       "<table border=\"1\" class=\"dataframe\">\n",
       "  <thead>\n",
       "    <tr style=\"text-align: right;\">\n",
       "      <th></th>\n",
       "      <th>tweet</th>\n",
       "      <th>date</th>\n",
       "      <th>city</th>\n",
       "      <th>clean</th>\n",
       "      <th>links</th>\n",
       "      <th>hashtags</th>\n",
       "      <th>mentions</th>\n",
       "    </tr>\n",
       "  </thead>\n",
       "  <tbody>\n",
       "    <tr>\n",
       "      <th>0</th>\n",
       "      <td>¡ATENCIÓN! #DEPORTES \\nEliminatorias Sudameric...</td>\n",
       "      <td>2020-11-14 01:58:28</td>\n",
       "      <td>colombia</td>\n",
       "      <td>¡ATENCIÓN!  \\nEliminatorias Sudamericanas: la ...</td>\n",
       "      <td>[https://t.co/bYsjJaBwIQ]</td>\n",
       "      <td>[#DEPORTES, #ChicaNoticias]</td>\n",
       "      <td>[]</td>\n",
       "    </tr>\n",
       "    <tr>\n",
       "      <th>1</th>\n",
       "      <td>Observando a las otras selecciones en las elim...</td>\n",
       "      <td>2020-11-14 00:53:39</td>\n",
       "      <td>colombia</td>\n",
       "      <td>Observando a las otras selecciones en las elim...</td>\n",
       "      <td>[https://t.co/8EdtfG923D]</td>\n",
       "      <td>[#Colombia]</td>\n",
       "      <td>[]</td>\n",
       "    </tr>\n",
       "    <tr>\n",
       "      <th>2</th>\n",
       "      <td>Primer partido que me veo de Colombia en las e...</td>\n",
       "      <td>2020-11-14 00:02:18</td>\n",
       "      <td>colombia</td>\n",
       "      <td>Primer partido que me veo de Colombia en las e...</td>\n",
       "      <td>[]</td>\n",
       "      <td>[]</td>\n",
       "      <td>[]</td>\n",
       "    </tr>\n",
       "    <tr>\n",
       "      <th>3</th>\n",
       "      <td>#COLURU Eliminatorias Sudamericanas: Colombia ...</td>\n",
       "      <td>2020-11-13 23:52:46</td>\n",
       "      <td>colombia</td>\n",
       "      <td>Eliminatorias Sudamericanas: Colombia cae en ...</td>\n",
       "      <td>[https://t.co/775sgBhOyM]</td>\n",
       "      <td>[#COLURU]</td>\n",
       "      <td>[]</td>\n",
       "    </tr>\n",
       "    <tr>\n",
       "      <th>4</th>\n",
       "      <td>!MUCHA ATENCIÓN! #NACIONAL #DEPORTES\\n¡Nos com...</td>\n",
       "      <td>2020-11-13 23:27:26</td>\n",
       "      <td>colombia</td>\n",
       "      <td>!MUCHA ATENCIÓN!  \\n¡Nos complicamos! Así qued...</td>\n",
       "      <td>[https://t.co/HlwwPYI0Ie]</td>\n",
       "      <td>[#NACIONAL, #DEPORTES, #CHN]</td>\n",
       "      <td>[]</td>\n",
       "    </tr>\n",
       "  </tbody>\n",
       "</table>\n",
       "</div>"
      ],
      "text/plain": [
       "                                               tweet                date  \\\n",
       "0  ¡ATENCIÓN! #DEPORTES \\nEliminatorias Sudameric... 2020-11-14 01:58:28   \n",
       "1  Observando a las otras selecciones en las elim... 2020-11-14 00:53:39   \n",
       "2  Primer partido que me veo de Colombia en las e... 2020-11-14 00:02:18   \n",
       "3  #COLURU Eliminatorias Sudamericanas: Colombia ... 2020-11-13 23:52:46   \n",
       "4  !MUCHA ATENCIÓN! #NACIONAL #DEPORTES\\n¡Nos com... 2020-11-13 23:27:26   \n",
       "\n",
       "       city                                              clean  \\\n",
       "0  colombia  ¡ATENCIÓN!  \\nEliminatorias Sudamericanas: la ...   \n",
       "1  colombia  Observando a las otras selecciones en las elim...   \n",
       "2  colombia  Primer partido que me veo de Colombia en las e...   \n",
       "3  colombia   Eliminatorias Sudamericanas: Colombia cae en ...   \n",
       "4  colombia  !MUCHA ATENCIÓN!  \\n¡Nos complicamos! Así qued...   \n",
       "\n",
       "                       links                      hashtags mentions  \n",
       "0  [https://t.co/bYsjJaBwIQ]   [#DEPORTES, #ChicaNoticias]       []  \n",
       "1  [https://t.co/8EdtfG923D]                   [#Colombia]       []  \n",
       "2                         []                            []       []  \n",
       "3  [https://t.co/775sgBhOyM]                     [#COLURU]       []  \n",
       "4  [https://t.co/HlwwPYI0Ie]  [#NACIONAL, #DEPORTES, #CHN]       []  "
      ]
     },
     "execution_count": 12,
     "metadata": {},
     "output_type": "execute_result"
    }
   ],
   "source": [
    "data[['clean', 'links', 'hashtags', 'mentions']] = data.apply(text_clean, axis=1, result_type='expand')\n",
    "data.head()"
   ]
  },
  {
   "cell_type": "code",
   "execution_count": 13,
   "metadata": {},
   "outputs": [],
   "source": [
    "#!pip install emoji\n",
    "import regex\n",
    "import emoji"
   ]
  },
  {
   "cell_type": "code",
   "execution_count": 14,
   "metadata": {},
   "outputs": [],
   "source": [
    "def get_emojis(text):\n",
    "    emoji_list = []\n",
    "    data = regex.findall(r'\\X', text)\n",
    "    for word in data:\n",
    "        if any(char in emoji.UNICODE_EMOJI for char in word):\n",
    "            emoji_list.append(word)\n",
    "\n",
    "    return emoji_list\n",
    "data['emojis'] = data['clean'].apply(lambda text: get_emojis(text))"
   ]
  },
  {
   "cell_type": "code",
   "execution_count": 15,
   "metadata": {},
   "outputs": [
    {
     "data": {
      "text/html": [
       "<div>\n",
       "<style scoped>\n",
       "    .dataframe tbody tr th:only-of-type {\n",
       "        vertical-align: middle;\n",
       "    }\n",
       "\n",
       "    .dataframe tbody tr th {\n",
       "        vertical-align: top;\n",
       "    }\n",
       "\n",
       "    .dataframe thead th {\n",
       "        text-align: right;\n",
       "    }\n",
       "</style>\n",
       "<table border=\"1\" class=\"dataframe\">\n",
       "  <thead>\n",
       "    <tr style=\"text-align: right;\">\n",
       "      <th></th>\n",
       "      <th>tweet</th>\n",
       "      <th>date</th>\n",
       "      <th>city</th>\n",
       "      <th>clean</th>\n",
       "      <th>links</th>\n",
       "      <th>hashtags</th>\n",
       "      <th>mentions</th>\n",
       "      <th>emojis</th>\n",
       "    </tr>\n",
       "  </thead>\n",
       "  <tbody>\n",
       "    <tr>\n",
       "      <th>0</th>\n",
       "      <td>¡ATENCIÓN! #DEPORTES \\nEliminatorias Sudameric...</td>\n",
       "      <td>2020-11-14 01:58:28</td>\n",
       "      <td>colombia</td>\n",
       "      <td>¡ATENCIÓN!  \\nEliminatorias Sudamericanas: la ...</td>\n",
       "      <td>[https://t.co/bYsjJaBwIQ]</td>\n",
       "      <td>[#DEPORTES, #ChicaNoticias]</td>\n",
       "      <td>[]</td>\n",
       "      <td>[]</td>\n",
       "    </tr>\n",
       "    <tr>\n",
       "      <th>1</th>\n",
       "      <td>Observando a las otras selecciones en las elim...</td>\n",
       "      <td>2020-11-14 00:53:39</td>\n",
       "      <td>colombia</td>\n",
       "      <td>Observando a las otras selecciones en las elim...</td>\n",
       "      <td>[https://t.co/8EdtfG923D]</td>\n",
       "      <td>[#Colombia]</td>\n",
       "      <td>[]</td>\n",
       "      <td>[]</td>\n",
       "    </tr>\n",
       "    <tr>\n",
       "      <th>2</th>\n",
       "      <td>Primer partido que me veo de Colombia en las e...</td>\n",
       "      <td>2020-11-14 00:02:18</td>\n",
       "      <td>colombia</td>\n",
       "      <td>Primer partido que me veo de Colombia en las e...</td>\n",
       "      <td>[]</td>\n",
       "      <td>[]</td>\n",
       "      <td>[]</td>\n",
       "      <td>[😒, 🙄]</td>\n",
       "    </tr>\n",
       "    <tr>\n",
       "      <th>3</th>\n",
       "      <td>#COLURU Eliminatorias Sudamericanas: Colombia ...</td>\n",
       "      <td>2020-11-13 23:52:46</td>\n",
       "      <td>colombia</td>\n",
       "      <td>Eliminatorias Sudamericanas: Colombia cae en ...</td>\n",
       "      <td>[https://t.co/775sgBhOyM]</td>\n",
       "      <td>[#COLURU]</td>\n",
       "      <td>[]</td>\n",
       "      <td>[]</td>\n",
       "    </tr>\n",
       "    <tr>\n",
       "      <th>4</th>\n",
       "      <td>!MUCHA ATENCIÓN! #NACIONAL #DEPORTES\\n¡Nos com...</td>\n",
       "      <td>2020-11-13 23:27:26</td>\n",
       "      <td>colombia</td>\n",
       "      <td>!MUCHA ATENCIÓN!  \\n¡Nos complicamos! Así qued...</td>\n",
       "      <td>[https://t.co/HlwwPYI0Ie]</td>\n",
       "      <td>[#NACIONAL, #DEPORTES, #CHN]</td>\n",
       "      <td>[]</td>\n",
       "      <td>[]</td>\n",
       "    </tr>\n",
       "  </tbody>\n",
       "</table>\n",
       "</div>"
      ],
      "text/plain": [
       "                                               tweet                date  \\\n",
       "0  ¡ATENCIÓN! #DEPORTES \\nEliminatorias Sudameric... 2020-11-14 01:58:28   \n",
       "1  Observando a las otras selecciones en las elim... 2020-11-14 00:53:39   \n",
       "2  Primer partido que me veo de Colombia en las e... 2020-11-14 00:02:18   \n",
       "3  #COLURU Eliminatorias Sudamericanas: Colombia ... 2020-11-13 23:52:46   \n",
       "4  !MUCHA ATENCIÓN! #NACIONAL #DEPORTES\\n¡Nos com... 2020-11-13 23:27:26   \n",
       "\n",
       "       city                                              clean  \\\n",
       "0  colombia  ¡ATENCIÓN!  \\nEliminatorias Sudamericanas: la ...   \n",
       "1  colombia  Observando a las otras selecciones en las elim...   \n",
       "2  colombia  Primer partido que me veo de Colombia en las e...   \n",
       "3  colombia   Eliminatorias Sudamericanas: Colombia cae en ...   \n",
       "4  colombia  !MUCHA ATENCIÓN!  \\n¡Nos complicamos! Así qued...   \n",
       "\n",
       "                       links                      hashtags mentions  emojis  \n",
       "0  [https://t.co/bYsjJaBwIQ]   [#DEPORTES, #ChicaNoticias]       []      []  \n",
       "1  [https://t.co/8EdtfG923D]                   [#Colombia]       []      []  \n",
       "2                         []                            []       []  [😒, 🙄]  \n",
       "3  [https://t.co/775sgBhOyM]                     [#COLURU]       []      []  \n",
       "4  [https://t.co/HlwwPYI0Ie]  [#NACIONAL, #DEPORTES, #CHN]       []      []  "
      ]
     },
     "execution_count": 15,
     "metadata": {},
     "output_type": "execute_result"
    }
   ],
   "source": [
    "data.head()"
   ]
  },
  {
   "cell_type": "markdown",
   "metadata": {},
   "source": [
    "### Punto 2: Hacer una visualización sobre esos tuits\n"
   ]
  },
  {
   "cell_type": "code",
   "execution_count": 16,
   "metadata": {},
   "outputs": [],
   "source": [
    "#!pip install plotly"
   ]
  },
  {
   "cell_type": "markdown",
   "metadata": {},
   "source": [
    "## Series de tiempo"
   ]
  },
  {
   "cell_type": "code",
   "execution_count": 17,
   "metadata": {},
   "outputs": [
    {
     "data": {
      "text/html": [
       "<div>\n",
       "<style scoped>\n",
       "    .dataframe tbody tr th:only-of-type {\n",
       "        vertical-align: middle;\n",
       "    }\n",
       "\n",
       "    .dataframe tbody tr th {\n",
       "        vertical-align: top;\n",
       "    }\n",
       "\n",
       "    .dataframe thead th {\n",
       "        text-align: right;\n",
       "    }\n",
       "</style>\n",
       "<table border=\"1\" class=\"dataframe\">\n",
       "  <thead>\n",
       "    <tr style=\"text-align: right;\">\n",
       "      <th></th>\n",
       "      <th>fecha</th>\n",
       "      <th>cnt</th>\n",
       "    </tr>\n",
       "  </thead>\n",
       "  <tbody>\n",
       "    <tr>\n",
       "      <th>6</th>\n",
       "      <td>2020-11-05</td>\n",
       "      <td>1</td>\n",
       "    </tr>\n",
       "    <tr>\n",
       "      <th>5</th>\n",
       "      <td>2020-11-07</td>\n",
       "      <td>2</td>\n",
       "    </tr>\n",
       "    <tr>\n",
       "      <th>2</th>\n",
       "      <td>2020-11-08</td>\n",
       "      <td>5</td>\n",
       "    </tr>\n",
       "    <tr>\n",
       "      <th>3</th>\n",
       "      <td>2020-11-09</td>\n",
       "      <td>3</td>\n",
       "    </tr>\n",
       "    <tr>\n",
       "      <th>7</th>\n",
       "      <td>2020-11-10</td>\n",
       "      <td>1</td>\n",
       "    </tr>\n",
       "    <tr>\n",
       "      <th>1</th>\n",
       "      <td>2020-11-12</td>\n",
       "      <td>10</td>\n",
       "    </tr>\n",
       "    <tr>\n",
       "      <th>0</th>\n",
       "      <td>2020-11-13</td>\n",
       "      <td>17</td>\n",
       "    </tr>\n",
       "    <tr>\n",
       "      <th>4</th>\n",
       "      <td>2020-11-14</td>\n",
       "      <td>3</td>\n",
       "    </tr>\n",
       "  </tbody>\n",
       "</table>\n",
       "</div>"
      ],
      "text/plain": [
       "        fecha  cnt\n",
       "6  2020-11-05    1\n",
       "5  2020-11-07    2\n",
       "2  2020-11-08    5\n",
       "3  2020-11-09    3\n",
       "7  2020-11-10    1\n",
       "1  2020-11-12   10\n",
       "0  2020-11-13   17\n",
       "4  2020-11-14    3"
      ]
     },
     "execution_count": 17,
     "metadata": {},
     "output_type": "execute_result"
    }
   ],
   "source": [
    "data['fecha'] = data.date.dt.date\n",
    "temp = pd.DataFrame(data.fecha.value_counts()).reset_index()\n",
    "temp.columns = ['fecha', 'cnt']\n",
    "temp = temp.sort_values('fecha')\n",
    "temp"
   ]
  },
  {
   "cell_type": "code",
   "execution_count": 22,
   "metadata": {},
   "outputs": [
    {
     "data": {
      "text/html": [
       "        <script type=\"text/javascript\">\n",
       "        window.PlotlyConfig = {MathJaxConfig: 'local'};\n",
       "        if (window.MathJax) {MathJax.Hub.Config({SVG: {font: \"STIX-Web\"}});}\n",
       "        if (typeof require !== 'undefined') {\n",
       "        require.undef(\"plotly\");\n",
       "        requirejs.config({\n",
       "            paths: {\n",
       "                'plotly': ['https://cdn.plot.ly/plotly-latest.min']\n",
       "            }\n",
       "        });\n",
       "        require(['plotly'], function(Plotly) {\n",
       "            window._Plotly = Plotly;\n",
       "        });\n",
       "        }\n",
       "        </script>\n",
       "        "
      ]
     },
     "metadata": {},
     "output_type": "display_data"
    }
   ],
   "source": [
    "import plotly.io as pio\n",
    "import plotly.express as px\n",
    "import plotly.graph_objs as go\n",
    "from plotly.offline import download_plotlyjs, init_notebook_mode, plot, iplot\n",
    "\n",
    "import matplotlib.pyplot as plt\n",
    "%matplotlib inline\n",
    "init_notebook_mode(connected=True)"
   ]
  },
  {
   "cell_type": "code",
   "execution_count": 29,
   "metadata": {},
   "outputs": [
    {
     "data": {
      "application/vnd.plotly.v1+json": {
       "config": {
        "linkText": "Export to plot.ly",
        "plotlyServerURL": "https://plot.ly",
        "showLink": false
       },
       "data": [
        {
         "hoverinfo": "text",
         "line": {
          "color": "#1DA1F2"
         },
         "mode": "lines+markers",
         "name": "Días",
         "text": [
          "Fecha: 2020-11-05<br>Tuits: 1",
          "Fecha: 2020-11-07<br>Tuits: 2",
          "Fecha: 2020-11-08<br>Tuits: 5",
          "Fecha: 2020-11-09<br>Tuits: 3",
          "Fecha: 2020-11-10<br>Tuits: 1",
          "Fecha: 2020-11-12<br>Tuits: 10",
          "Fecha: 2020-11-13<br>Tuits: 17",
          "Fecha: 2020-11-14<br>Tuits: 3"
         ],
         "type": "scatter",
         "x": [
          "2020-11-05",
          "2020-11-07",
          "2020-11-08",
          "2020-11-09",
          "2020-11-10",
          "2020-11-12",
          "2020-11-13",
          "2020-11-14"
         ],
         "y": [
          1,
          2,
          5,
          3,
          1,
          10,
          17,
          3
         ]
        }
       ],
       "layout": {
        "template": {
         "data": {
          "bar": [
           {
            "error_x": {
             "color": "#2a3f5f"
            },
            "error_y": {
             "color": "#2a3f5f"
            },
            "marker": {
             "line": {
              "color": "#E5ECF6",
              "width": 0.5
             }
            },
            "type": "bar"
           }
          ],
          "barpolar": [
           {
            "marker": {
             "line": {
              "color": "#E5ECF6",
              "width": 0.5
             }
            },
            "type": "barpolar"
           }
          ],
          "carpet": [
           {
            "aaxis": {
             "endlinecolor": "#2a3f5f",
             "gridcolor": "white",
             "linecolor": "white",
             "minorgridcolor": "white",
             "startlinecolor": "#2a3f5f"
            },
            "baxis": {
             "endlinecolor": "#2a3f5f",
             "gridcolor": "white",
             "linecolor": "white",
             "minorgridcolor": "white",
             "startlinecolor": "#2a3f5f"
            },
            "type": "carpet"
           }
          ],
          "choropleth": [
           {
            "colorbar": {
             "outlinewidth": 0,
             "ticks": ""
            },
            "type": "choropleth"
           }
          ],
          "contour": [
           {
            "colorbar": {
             "outlinewidth": 0,
             "ticks": ""
            },
            "colorscale": [
             [
              0,
              "#0d0887"
             ],
             [
              0.1111111111111111,
              "#46039f"
             ],
             [
              0.2222222222222222,
              "#7201a8"
             ],
             [
              0.3333333333333333,
              "#9c179e"
             ],
             [
              0.4444444444444444,
              "#bd3786"
             ],
             [
              0.5555555555555556,
              "#d8576b"
             ],
             [
              0.6666666666666666,
              "#ed7953"
             ],
             [
              0.7777777777777778,
              "#fb9f3a"
             ],
             [
              0.8888888888888888,
              "#fdca26"
             ],
             [
              1,
              "#f0f921"
             ]
            ],
            "type": "contour"
           }
          ],
          "contourcarpet": [
           {
            "colorbar": {
             "outlinewidth": 0,
             "ticks": ""
            },
            "type": "contourcarpet"
           }
          ],
          "heatmap": [
           {
            "colorbar": {
             "outlinewidth": 0,
             "ticks": ""
            },
            "colorscale": [
             [
              0,
              "#0d0887"
             ],
             [
              0.1111111111111111,
              "#46039f"
             ],
             [
              0.2222222222222222,
              "#7201a8"
             ],
             [
              0.3333333333333333,
              "#9c179e"
             ],
             [
              0.4444444444444444,
              "#bd3786"
             ],
             [
              0.5555555555555556,
              "#d8576b"
             ],
             [
              0.6666666666666666,
              "#ed7953"
             ],
             [
              0.7777777777777778,
              "#fb9f3a"
             ],
             [
              0.8888888888888888,
              "#fdca26"
             ],
             [
              1,
              "#f0f921"
             ]
            ],
            "type": "heatmap"
           }
          ],
          "heatmapgl": [
           {
            "colorbar": {
             "outlinewidth": 0,
             "ticks": ""
            },
            "colorscale": [
             [
              0,
              "#0d0887"
             ],
             [
              0.1111111111111111,
              "#46039f"
             ],
             [
              0.2222222222222222,
              "#7201a8"
             ],
             [
              0.3333333333333333,
              "#9c179e"
             ],
             [
              0.4444444444444444,
              "#bd3786"
             ],
             [
              0.5555555555555556,
              "#d8576b"
             ],
             [
              0.6666666666666666,
              "#ed7953"
             ],
             [
              0.7777777777777778,
              "#fb9f3a"
             ],
             [
              0.8888888888888888,
              "#fdca26"
             ],
             [
              1,
              "#f0f921"
             ]
            ],
            "type": "heatmapgl"
           }
          ],
          "histogram": [
           {
            "marker": {
             "colorbar": {
              "outlinewidth": 0,
              "ticks": ""
             }
            },
            "type": "histogram"
           }
          ],
          "histogram2d": [
           {
            "colorbar": {
             "outlinewidth": 0,
             "ticks": ""
            },
            "colorscale": [
             [
              0,
              "#0d0887"
             ],
             [
              0.1111111111111111,
              "#46039f"
             ],
             [
              0.2222222222222222,
              "#7201a8"
             ],
             [
              0.3333333333333333,
              "#9c179e"
             ],
             [
              0.4444444444444444,
              "#bd3786"
             ],
             [
              0.5555555555555556,
              "#d8576b"
             ],
             [
              0.6666666666666666,
              "#ed7953"
             ],
             [
              0.7777777777777778,
              "#fb9f3a"
             ],
             [
              0.8888888888888888,
              "#fdca26"
             ],
             [
              1,
              "#f0f921"
             ]
            ],
            "type": "histogram2d"
           }
          ],
          "histogram2dcontour": [
           {
            "colorbar": {
             "outlinewidth": 0,
             "ticks": ""
            },
            "colorscale": [
             [
              0,
              "#0d0887"
             ],
             [
              0.1111111111111111,
              "#46039f"
             ],
             [
              0.2222222222222222,
              "#7201a8"
             ],
             [
              0.3333333333333333,
              "#9c179e"
             ],
             [
              0.4444444444444444,
              "#bd3786"
             ],
             [
              0.5555555555555556,
              "#d8576b"
             ],
             [
              0.6666666666666666,
              "#ed7953"
             ],
             [
              0.7777777777777778,
              "#fb9f3a"
             ],
             [
              0.8888888888888888,
              "#fdca26"
             ],
             [
              1,
              "#f0f921"
             ]
            ],
            "type": "histogram2dcontour"
           }
          ],
          "mesh3d": [
           {
            "colorbar": {
             "outlinewidth": 0,
             "ticks": ""
            },
            "type": "mesh3d"
           }
          ],
          "parcoords": [
           {
            "line": {
             "colorbar": {
              "outlinewidth": 0,
              "ticks": ""
             }
            },
            "type": "parcoords"
           }
          ],
          "pie": [
           {
            "automargin": true,
            "type": "pie"
           }
          ],
          "scatter": [
           {
            "marker": {
             "colorbar": {
              "outlinewidth": 0,
              "ticks": ""
             }
            },
            "type": "scatter"
           }
          ],
          "scatter3d": [
           {
            "line": {
             "colorbar": {
              "outlinewidth": 0,
              "ticks": ""
             }
            },
            "marker": {
             "colorbar": {
              "outlinewidth": 0,
              "ticks": ""
             }
            },
            "type": "scatter3d"
           }
          ],
          "scattercarpet": [
           {
            "marker": {
             "colorbar": {
              "outlinewidth": 0,
              "ticks": ""
             }
            },
            "type": "scattercarpet"
           }
          ],
          "scattergeo": [
           {
            "marker": {
             "colorbar": {
              "outlinewidth": 0,
              "ticks": ""
             }
            },
            "type": "scattergeo"
           }
          ],
          "scattergl": [
           {
            "marker": {
             "colorbar": {
              "outlinewidth": 0,
              "ticks": ""
             }
            },
            "type": "scattergl"
           }
          ],
          "scattermapbox": [
           {
            "marker": {
             "colorbar": {
              "outlinewidth": 0,
              "ticks": ""
             }
            },
            "type": "scattermapbox"
           }
          ],
          "scatterpolar": [
           {
            "marker": {
             "colorbar": {
              "outlinewidth": 0,
              "ticks": ""
             }
            },
            "type": "scatterpolar"
           }
          ],
          "scatterpolargl": [
           {
            "marker": {
             "colorbar": {
              "outlinewidth": 0,
              "ticks": ""
             }
            },
            "type": "scatterpolargl"
           }
          ],
          "scatterternary": [
           {
            "marker": {
             "colorbar": {
              "outlinewidth": 0,
              "ticks": ""
             }
            },
            "type": "scatterternary"
           }
          ],
          "surface": [
           {
            "colorbar": {
             "outlinewidth": 0,
             "ticks": ""
            },
            "colorscale": [
             [
              0,
              "#0d0887"
             ],
             [
              0.1111111111111111,
              "#46039f"
             ],
             [
              0.2222222222222222,
              "#7201a8"
             ],
             [
              0.3333333333333333,
              "#9c179e"
             ],
             [
              0.4444444444444444,
              "#bd3786"
             ],
             [
              0.5555555555555556,
              "#d8576b"
             ],
             [
              0.6666666666666666,
              "#ed7953"
             ],
             [
              0.7777777777777778,
              "#fb9f3a"
             ],
             [
              0.8888888888888888,
              "#fdca26"
             ],
             [
              1,
              "#f0f921"
             ]
            ],
            "type": "surface"
           }
          ],
          "table": [
           {
            "cells": {
             "fill": {
              "color": "#EBF0F8"
             },
             "line": {
              "color": "white"
             }
            },
            "header": {
             "fill": {
              "color": "#C8D4E3"
             },
             "line": {
              "color": "white"
             }
            },
            "type": "table"
           }
          ]
         },
         "layout": {
          "annotationdefaults": {
           "arrowcolor": "#2a3f5f",
           "arrowhead": 0,
           "arrowwidth": 1
          },
          "coloraxis": {
           "colorbar": {
            "outlinewidth": 0,
            "ticks": ""
           }
          },
          "colorscale": {
           "diverging": [
            [
             0,
             "#8e0152"
            ],
            [
             0.1,
             "#c51b7d"
            ],
            [
             0.2,
             "#de77ae"
            ],
            [
             0.3,
             "#f1b6da"
            ],
            [
             0.4,
             "#fde0ef"
            ],
            [
             0.5,
             "#f7f7f7"
            ],
            [
             0.6,
             "#e6f5d0"
            ],
            [
             0.7,
             "#b8e186"
            ],
            [
             0.8,
             "#7fbc41"
            ],
            [
             0.9,
             "#4d9221"
            ],
            [
             1,
             "#276419"
            ]
           ],
           "sequential": [
            [
             0,
             "#0d0887"
            ],
            [
             0.1111111111111111,
             "#46039f"
            ],
            [
             0.2222222222222222,
             "#7201a8"
            ],
            [
             0.3333333333333333,
             "#9c179e"
            ],
            [
             0.4444444444444444,
             "#bd3786"
            ],
            [
             0.5555555555555556,
             "#d8576b"
            ],
            [
             0.6666666666666666,
             "#ed7953"
            ],
            [
             0.7777777777777778,
             "#fb9f3a"
            ],
            [
             0.8888888888888888,
             "#fdca26"
            ],
            [
             1,
             "#f0f921"
            ]
           ],
           "sequentialminus": [
            [
             0,
             "#0d0887"
            ],
            [
             0.1111111111111111,
             "#46039f"
            ],
            [
             0.2222222222222222,
             "#7201a8"
            ],
            [
             0.3333333333333333,
             "#9c179e"
            ],
            [
             0.4444444444444444,
             "#bd3786"
            ],
            [
             0.5555555555555556,
             "#d8576b"
            ],
            [
             0.6666666666666666,
             "#ed7953"
            ],
            [
             0.7777777777777778,
             "#fb9f3a"
            ],
            [
             0.8888888888888888,
             "#fdca26"
            ],
            [
             1,
             "#f0f921"
            ]
           ]
          },
          "colorway": [
           "#636efa",
           "#EF553B",
           "#00cc96",
           "#ab63fa",
           "#FFA15A",
           "#19d3f3",
           "#FF6692",
           "#B6E880",
           "#FF97FF",
           "#FECB52"
          ],
          "font": {
           "color": "#2a3f5f"
          },
          "geo": {
           "bgcolor": "white",
           "lakecolor": "white",
           "landcolor": "#E5ECF6",
           "showlakes": true,
           "showland": true,
           "subunitcolor": "white"
          },
          "hoverlabel": {
           "align": "left"
          },
          "hovermode": "closest",
          "mapbox": {
           "style": "light"
          },
          "paper_bgcolor": "white",
          "plot_bgcolor": "#E5ECF6",
          "polar": {
           "angularaxis": {
            "gridcolor": "white",
            "linecolor": "white",
            "ticks": ""
           },
           "bgcolor": "#E5ECF6",
           "radialaxis": {
            "gridcolor": "white",
            "linecolor": "white",
            "ticks": ""
           }
          },
          "scene": {
           "xaxis": {
            "backgroundcolor": "#E5ECF6",
            "gridcolor": "white",
            "gridwidth": 2,
            "linecolor": "white",
            "showbackground": true,
            "ticks": "",
            "zerolinecolor": "white"
           },
           "yaxis": {
            "backgroundcolor": "#E5ECF6",
            "gridcolor": "white",
            "gridwidth": 2,
            "linecolor": "white",
            "showbackground": true,
            "ticks": "",
            "zerolinecolor": "white"
           },
           "zaxis": {
            "backgroundcolor": "#E5ECF6",
            "gridcolor": "white",
            "gridwidth": 2,
            "linecolor": "white",
            "showbackground": true,
            "ticks": "",
            "zerolinecolor": "white"
           }
          },
          "shapedefaults": {
           "line": {
            "color": "#2a3f5f"
           }
          },
          "ternary": {
           "aaxis": {
            "gridcolor": "white",
            "linecolor": "white",
            "ticks": ""
           },
           "baxis": {
            "gridcolor": "white",
            "linecolor": "white",
            "ticks": ""
           },
           "bgcolor": "#E5ECF6",
           "caxis": {
            "gridcolor": "white",
            "linecolor": "white",
            "ticks": ""
           }
          },
          "title": {
           "x": 0.05
          },
          "xaxis": {
           "automargin": true,
           "gridcolor": "white",
           "linecolor": "white",
           "ticks": "",
           "title": {
            "standoff": 15
           },
           "zerolinecolor": "white",
           "zerolinewidth": 2
          },
          "yaxis": {
           "automargin": true,
           "gridcolor": "white",
           "linecolor": "white",
           "ticks": "",
           "title": {
            "standoff": 15
           },
           "zerolinecolor": "white",
           "zerolinewidth": 2
          }
         }
        },
        "title": {
         "text": "Número de tuits por día"
        }
       }
      },
      "text/html": [
       "<div>                            <div id=\"e6b39eb3-8f86-4881-b198-81edf021f1de\" class=\"plotly-graph-div\" style=\"height:525px; width:100%;\"></div>            <script type=\"text/javascript\">                require([\"plotly\"], function(Plotly) {                    window.PLOTLYENV=window.PLOTLYENV || {};                                    if (document.getElementById(\"e6b39eb3-8f86-4881-b198-81edf021f1de\")) {                    Plotly.newPlot(                        \"e6b39eb3-8f86-4881-b198-81edf021f1de\",                        [{\"hoverinfo\": \"text\", \"line\": {\"color\": \"#1DA1F2\"}, \"mode\": \"lines+markers\", \"name\": \"D\\u00edas\", \"text\": [\"Fecha: 2020-11-05<br>Tuits: 1\", \"Fecha: 2020-11-07<br>Tuits: 2\", \"Fecha: 2020-11-08<br>Tuits: 5\", \"Fecha: 2020-11-09<br>Tuits: 3\", \"Fecha: 2020-11-10<br>Tuits: 1\", \"Fecha: 2020-11-12<br>Tuits: 10\", \"Fecha: 2020-11-13<br>Tuits: 17\", \"Fecha: 2020-11-14<br>Tuits: 3\"], \"type\": \"scatter\", \"x\": [\"2020-11-05\", \"2020-11-07\", \"2020-11-08\", \"2020-11-09\", \"2020-11-10\", \"2020-11-12\", \"2020-11-13\", \"2020-11-14\"], \"y\": [1, 2, 5, 3, 1, 10, 17, 3]}],                        {\"template\": {\"data\": {\"bar\": [{\"error_x\": {\"color\": \"#2a3f5f\"}, \"error_y\": {\"color\": \"#2a3f5f\"}, \"marker\": {\"line\": {\"color\": \"#E5ECF6\", \"width\": 0.5}}, \"type\": \"bar\"}], \"barpolar\": [{\"marker\": {\"line\": {\"color\": \"#E5ECF6\", \"width\": 0.5}}, \"type\": \"barpolar\"}], \"carpet\": [{\"aaxis\": {\"endlinecolor\": \"#2a3f5f\", \"gridcolor\": \"white\", \"linecolor\": \"white\", \"minorgridcolor\": \"white\", \"startlinecolor\": \"#2a3f5f\"}, \"baxis\": {\"endlinecolor\": \"#2a3f5f\", \"gridcolor\": \"white\", \"linecolor\": \"white\", \"minorgridcolor\": \"white\", \"startlinecolor\": \"#2a3f5f\"}, \"type\": \"carpet\"}], \"choropleth\": [{\"colorbar\": {\"outlinewidth\": 0, \"ticks\": \"\"}, \"type\": \"choropleth\"}], \"contour\": [{\"colorbar\": {\"outlinewidth\": 0, \"ticks\": \"\"}, \"colorscale\": [[0.0, \"#0d0887\"], [0.1111111111111111, \"#46039f\"], [0.2222222222222222, \"#7201a8\"], [0.3333333333333333, \"#9c179e\"], [0.4444444444444444, \"#bd3786\"], [0.5555555555555556, \"#d8576b\"], [0.6666666666666666, \"#ed7953\"], [0.7777777777777778, \"#fb9f3a\"], [0.8888888888888888, \"#fdca26\"], [1.0, \"#f0f921\"]], \"type\": \"contour\"}], \"contourcarpet\": [{\"colorbar\": {\"outlinewidth\": 0, \"ticks\": \"\"}, \"type\": \"contourcarpet\"}], \"heatmap\": [{\"colorbar\": {\"outlinewidth\": 0, \"ticks\": \"\"}, \"colorscale\": [[0.0, \"#0d0887\"], [0.1111111111111111, \"#46039f\"], [0.2222222222222222, \"#7201a8\"], [0.3333333333333333, \"#9c179e\"], [0.4444444444444444, \"#bd3786\"], [0.5555555555555556, \"#d8576b\"], [0.6666666666666666, \"#ed7953\"], [0.7777777777777778, \"#fb9f3a\"], [0.8888888888888888, \"#fdca26\"], [1.0, \"#f0f921\"]], \"type\": \"heatmap\"}], \"heatmapgl\": [{\"colorbar\": {\"outlinewidth\": 0, \"ticks\": \"\"}, \"colorscale\": [[0.0, \"#0d0887\"], [0.1111111111111111, \"#46039f\"], [0.2222222222222222, \"#7201a8\"], [0.3333333333333333, \"#9c179e\"], [0.4444444444444444, \"#bd3786\"], [0.5555555555555556, \"#d8576b\"], [0.6666666666666666, \"#ed7953\"], [0.7777777777777778, \"#fb9f3a\"], [0.8888888888888888, \"#fdca26\"], [1.0, \"#f0f921\"]], \"type\": \"heatmapgl\"}], \"histogram\": [{\"marker\": {\"colorbar\": {\"outlinewidth\": 0, \"ticks\": \"\"}}, \"type\": \"histogram\"}], \"histogram2d\": [{\"colorbar\": {\"outlinewidth\": 0, \"ticks\": \"\"}, \"colorscale\": [[0.0, \"#0d0887\"], [0.1111111111111111, \"#46039f\"], [0.2222222222222222, \"#7201a8\"], [0.3333333333333333, \"#9c179e\"], [0.4444444444444444, \"#bd3786\"], [0.5555555555555556, \"#d8576b\"], [0.6666666666666666, \"#ed7953\"], [0.7777777777777778, \"#fb9f3a\"], [0.8888888888888888, \"#fdca26\"], [1.0, \"#f0f921\"]], \"type\": \"histogram2d\"}], \"histogram2dcontour\": [{\"colorbar\": {\"outlinewidth\": 0, \"ticks\": \"\"}, \"colorscale\": [[0.0, \"#0d0887\"], [0.1111111111111111, \"#46039f\"], [0.2222222222222222, \"#7201a8\"], [0.3333333333333333, \"#9c179e\"], [0.4444444444444444, \"#bd3786\"], [0.5555555555555556, \"#d8576b\"], [0.6666666666666666, \"#ed7953\"], [0.7777777777777778, \"#fb9f3a\"], [0.8888888888888888, \"#fdca26\"], [1.0, \"#f0f921\"]], \"type\": \"histogram2dcontour\"}], \"mesh3d\": [{\"colorbar\": {\"outlinewidth\": 0, \"ticks\": \"\"}, \"type\": \"mesh3d\"}], \"parcoords\": [{\"line\": {\"colorbar\": {\"outlinewidth\": 0, \"ticks\": \"\"}}, \"type\": \"parcoords\"}], \"pie\": [{\"automargin\": true, \"type\": \"pie\"}], \"scatter\": [{\"marker\": {\"colorbar\": {\"outlinewidth\": 0, \"ticks\": \"\"}}, \"type\": \"scatter\"}], \"scatter3d\": [{\"line\": {\"colorbar\": {\"outlinewidth\": 0, \"ticks\": \"\"}}, \"marker\": {\"colorbar\": {\"outlinewidth\": 0, \"ticks\": \"\"}}, \"type\": \"scatter3d\"}], \"scattercarpet\": [{\"marker\": {\"colorbar\": {\"outlinewidth\": 0, \"ticks\": \"\"}}, \"type\": \"scattercarpet\"}], \"scattergeo\": [{\"marker\": {\"colorbar\": {\"outlinewidth\": 0, \"ticks\": \"\"}}, \"type\": \"scattergeo\"}], \"scattergl\": [{\"marker\": {\"colorbar\": {\"outlinewidth\": 0, \"ticks\": \"\"}}, \"type\": \"scattergl\"}], \"scattermapbox\": [{\"marker\": {\"colorbar\": {\"outlinewidth\": 0, \"ticks\": \"\"}}, \"type\": \"scattermapbox\"}], \"scatterpolar\": [{\"marker\": {\"colorbar\": {\"outlinewidth\": 0, \"ticks\": \"\"}}, \"type\": \"scatterpolar\"}], \"scatterpolargl\": [{\"marker\": {\"colorbar\": {\"outlinewidth\": 0, \"ticks\": \"\"}}, \"type\": \"scatterpolargl\"}], \"scatterternary\": [{\"marker\": {\"colorbar\": {\"outlinewidth\": 0, \"ticks\": \"\"}}, \"type\": \"scatterternary\"}], \"surface\": [{\"colorbar\": {\"outlinewidth\": 0, \"ticks\": \"\"}, \"colorscale\": [[0.0, \"#0d0887\"], [0.1111111111111111, \"#46039f\"], [0.2222222222222222, \"#7201a8\"], [0.3333333333333333, \"#9c179e\"], [0.4444444444444444, \"#bd3786\"], [0.5555555555555556, \"#d8576b\"], [0.6666666666666666, \"#ed7953\"], [0.7777777777777778, \"#fb9f3a\"], [0.8888888888888888, \"#fdca26\"], [1.0, \"#f0f921\"]], \"type\": \"surface\"}], \"table\": [{\"cells\": {\"fill\": {\"color\": \"#EBF0F8\"}, \"line\": {\"color\": \"white\"}}, \"header\": {\"fill\": {\"color\": \"#C8D4E3\"}, \"line\": {\"color\": \"white\"}}, \"type\": \"table\"}]}, \"layout\": {\"annotationdefaults\": {\"arrowcolor\": \"#2a3f5f\", \"arrowhead\": 0, \"arrowwidth\": 1}, \"coloraxis\": {\"colorbar\": {\"outlinewidth\": 0, \"ticks\": \"\"}}, \"colorscale\": {\"diverging\": [[0, \"#8e0152\"], [0.1, \"#c51b7d\"], [0.2, \"#de77ae\"], [0.3, \"#f1b6da\"], [0.4, \"#fde0ef\"], [0.5, \"#f7f7f7\"], [0.6, \"#e6f5d0\"], [0.7, \"#b8e186\"], [0.8, \"#7fbc41\"], [0.9, \"#4d9221\"], [1, \"#276419\"]], \"sequential\": [[0.0, \"#0d0887\"], [0.1111111111111111, \"#46039f\"], [0.2222222222222222, \"#7201a8\"], [0.3333333333333333, \"#9c179e\"], [0.4444444444444444, \"#bd3786\"], [0.5555555555555556, \"#d8576b\"], [0.6666666666666666, \"#ed7953\"], [0.7777777777777778, \"#fb9f3a\"], [0.8888888888888888, \"#fdca26\"], [1.0, \"#f0f921\"]], \"sequentialminus\": [[0.0, \"#0d0887\"], [0.1111111111111111, \"#46039f\"], [0.2222222222222222, \"#7201a8\"], [0.3333333333333333, \"#9c179e\"], [0.4444444444444444, \"#bd3786\"], [0.5555555555555556, \"#d8576b\"], [0.6666666666666666, \"#ed7953\"], [0.7777777777777778, \"#fb9f3a\"], [0.8888888888888888, \"#fdca26\"], [1.0, \"#f0f921\"]]}, \"colorway\": [\"#636efa\", \"#EF553B\", \"#00cc96\", \"#ab63fa\", \"#FFA15A\", \"#19d3f3\", \"#FF6692\", \"#B6E880\", \"#FF97FF\", \"#FECB52\"], \"font\": {\"color\": \"#2a3f5f\"}, \"geo\": {\"bgcolor\": \"white\", \"lakecolor\": \"white\", \"landcolor\": \"#E5ECF6\", \"showlakes\": true, \"showland\": true, \"subunitcolor\": \"white\"}, \"hoverlabel\": {\"align\": \"left\"}, \"hovermode\": \"closest\", \"mapbox\": {\"style\": \"light\"}, \"paper_bgcolor\": \"white\", \"plot_bgcolor\": \"#E5ECF6\", \"polar\": {\"angularaxis\": {\"gridcolor\": \"white\", \"linecolor\": \"white\", \"ticks\": \"\"}, \"bgcolor\": \"#E5ECF6\", \"radialaxis\": {\"gridcolor\": \"white\", \"linecolor\": \"white\", \"ticks\": \"\"}}, \"scene\": {\"xaxis\": {\"backgroundcolor\": \"#E5ECF6\", \"gridcolor\": \"white\", \"gridwidth\": 2, \"linecolor\": \"white\", \"showbackground\": true, \"ticks\": \"\", \"zerolinecolor\": \"white\"}, \"yaxis\": {\"backgroundcolor\": \"#E5ECF6\", \"gridcolor\": \"white\", \"gridwidth\": 2, \"linecolor\": \"white\", \"showbackground\": true, \"ticks\": \"\", \"zerolinecolor\": \"white\"}, \"zaxis\": {\"backgroundcolor\": \"#E5ECF6\", \"gridcolor\": \"white\", \"gridwidth\": 2, \"linecolor\": \"white\", \"showbackground\": true, \"ticks\": \"\", \"zerolinecolor\": \"white\"}}, \"shapedefaults\": {\"line\": {\"color\": \"#2a3f5f\"}}, \"ternary\": {\"aaxis\": {\"gridcolor\": \"white\", \"linecolor\": \"white\", \"ticks\": \"\"}, \"baxis\": {\"gridcolor\": \"white\", \"linecolor\": \"white\", \"ticks\": \"\"}, \"bgcolor\": \"#E5ECF6\", \"caxis\": {\"gridcolor\": \"white\", \"linecolor\": \"white\", \"ticks\": \"\"}}, \"title\": {\"x\": 0.05}, \"xaxis\": {\"automargin\": true, \"gridcolor\": \"white\", \"linecolor\": \"white\", \"ticks\": \"\", \"title\": {\"standoff\": 15}, \"zerolinecolor\": \"white\", \"zerolinewidth\": 2}, \"yaxis\": {\"automargin\": true, \"gridcolor\": \"white\", \"linecolor\": \"white\", \"ticks\": \"\", \"title\": {\"standoff\": 15}, \"zerolinecolor\": \"white\", \"zerolinewidth\": 2}}}, \"title\": {\"text\": \"N\\u00famero de tuits por d\\u00eda\"}},                        {\"responsive\": true}                    ).then(function(){\n",
       "                            \n",
       "var gd = document.getElementById('e6b39eb3-8f86-4881-b198-81edf021f1de');\n",
       "var x = new MutationObserver(function (mutations, observer) {{\n",
       "        var display = window.getComputedStyle(gd).display;\n",
       "        if (!display || display === 'none') {{\n",
       "            console.log([gd, 'removed!']);\n",
       "            Plotly.purge(gd);\n",
       "            observer.disconnect();\n",
       "        }}\n",
       "}});\n",
       "\n",
       "// Listen for the removal of the full notebook cells\n",
       "var notebookContainer = gd.closest('#notebook-container');\n",
       "if (notebookContainer) {{\n",
       "    x.observe(notebookContainer, {childList: true});\n",
       "}}\n",
       "\n",
       "// Listen for the clearing of the current output cell\n",
       "var outputEl = gd.closest('.output');\n",
       "if (outputEl) {{\n",
       "    x.observe(outputEl, {childList: true});\n",
       "}}\n",
       "\n",
       "                        })                };                });            </script>        </div>"
      ]
     },
     "metadata": {},
     "output_type": "display_data"
    }
   ],
   "source": [
    "trace = go.Scatter(x=temp.fecha.values,\n",
    "                   y=temp.cnt.values,\n",
    "                   text=[f\"Fecha: {f}<br>Tuits: {c}\" for f,c in zip(temp.fecha.values,temp.cnt.values)],\n",
    "                   hoverinfo='text',\n",
    "                   mode='lines+markers',\n",
    "                   name='Días',\n",
    "                   line={'color':'#1DA1F2'})\n",
    "\n",
    "layout = go.Layout(title='Número de tuits por día')\n",
    "\n",
    "fig = go.Figure(data=[trace], layout=layout)\n",
    "iplot(fig)"
   ]
  },
  {
   "cell_type": "markdown",
   "metadata": {},
   "source": [
    "Barras"
   ]
  },
  {
   "cell_type": "code",
   "execution_count": 30,
   "metadata": {},
   "outputs": [
    {
     "data": {
      "text/html": [
       "<div>\n",
       "<style scoped>\n",
       "    .dataframe tbody tr th:only-of-type {\n",
       "        vertical-align: middle;\n",
       "    }\n",
       "\n",
       "    .dataframe tbody tr th {\n",
       "        vertical-align: top;\n",
       "    }\n",
       "\n",
       "    .dataframe thead th {\n",
       "        text-align: right;\n",
       "    }\n",
       "</style>\n",
       "<table border=\"1\" class=\"dataframe\">\n",
       "  <thead>\n",
       "    <tr style=\"text-align: right;\">\n",
       "      <th></th>\n",
       "      <th>emoji</th>\n",
       "      <th>cnt</th>\n",
       "    </tr>\n",
       "  </thead>\n",
       "  <tbody>\n",
       "    <tr>\n",
       "      <th>13</th>\n",
       "      <td>🚨</td>\n",
       "      <td>4</td>\n",
       "    </tr>\n",
       "    <tr>\n",
       "      <th>2</th>\n",
       "      <td>🎥</td>\n",
       "      <td>2</td>\n",
       "    </tr>\n",
       "    <tr>\n",
       "      <th>5</th>\n",
       "      <td>🇨🇴</td>\n",
       "      <td>2</td>\n",
       "    </tr>\n",
       "    <tr>\n",
       "      <th>6</th>\n",
       "      <td>🤩</td>\n",
       "      <td>2</td>\n",
       "    </tr>\n",
       "    <tr>\n",
       "      <th>8</th>\n",
       "      <td>👕</td>\n",
       "      <td>2</td>\n",
       "    </tr>\n",
       "  </tbody>\n",
       "</table>\n",
       "</div>"
      ],
      "text/plain": [
       "   emoji  cnt\n",
       "13     🚨    4\n",
       "2      🎥    2\n",
       "5     🇨🇴    2\n",
       "6      🤩    2\n",
       "8      👕    2"
      ]
     },
     "execution_count": 30,
     "metadata": {},
     "output_type": "execute_result"
    }
   ],
   "source": [
    "from collections import Counter\n",
    "\n",
    "temp_emojis = pd.DataFrame(list(zip(Counter(sum(data.emojis.values,[])).keys(),Counter(sum(data.emojis.values,[])).values())))\n",
    "temp_emojis.columns = ['emoji', 'cnt']\n",
    "temp_emojis.sort_values('cnt', ascending=False, inplace=True)\n",
    "temp_emojis.head()"
   ]
  },
  {
   "cell_type": "code",
   "execution_count": 31,
   "metadata": {},
   "outputs": [
    {
     "data": {
      "application/vnd.plotly.v1+json": {
       "config": {
        "linkText": "Export to plot.ly",
        "plotlyServerURL": "https://plot.ly",
        "showLink": false
       },
       "data": [
        {
         "type": "bar",
         "x": [
          "🚨",
          "🎥",
          "🇨🇴",
          "🤩",
          "👕",
          "😒",
          "🙄",
          "🤔",
          "🤣",
          "😔",
          "🏆",
          "🇧🇷",
          "🟡",
          "🟢"
         ],
         "y": [
          4,
          2,
          2,
          2,
          2,
          1,
          1,
          1,
          1,
          1,
          1,
          1,
          1,
          1
         ]
        }
       ],
       "layout": {
        "template": {
         "data": {
          "bar": [
           {
            "error_x": {
             "color": "#2a3f5f"
            },
            "error_y": {
             "color": "#2a3f5f"
            },
            "marker": {
             "line": {
              "color": "#E5ECF6",
              "width": 0.5
             }
            },
            "type": "bar"
           }
          ],
          "barpolar": [
           {
            "marker": {
             "line": {
              "color": "#E5ECF6",
              "width": 0.5
             }
            },
            "type": "barpolar"
           }
          ],
          "carpet": [
           {
            "aaxis": {
             "endlinecolor": "#2a3f5f",
             "gridcolor": "white",
             "linecolor": "white",
             "minorgridcolor": "white",
             "startlinecolor": "#2a3f5f"
            },
            "baxis": {
             "endlinecolor": "#2a3f5f",
             "gridcolor": "white",
             "linecolor": "white",
             "minorgridcolor": "white",
             "startlinecolor": "#2a3f5f"
            },
            "type": "carpet"
           }
          ],
          "choropleth": [
           {
            "colorbar": {
             "outlinewidth": 0,
             "ticks": ""
            },
            "type": "choropleth"
           }
          ],
          "contour": [
           {
            "colorbar": {
             "outlinewidth": 0,
             "ticks": ""
            },
            "colorscale": [
             [
              0,
              "#0d0887"
             ],
             [
              0.1111111111111111,
              "#46039f"
             ],
             [
              0.2222222222222222,
              "#7201a8"
             ],
             [
              0.3333333333333333,
              "#9c179e"
             ],
             [
              0.4444444444444444,
              "#bd3786"
             ],
             [
              0.5555555555555556,
              "#d8576b"
             ],
             [
              0.6666666666666666,
              "#ed7953"
             ],
             [
              0.7777777777777778,
              "#fb9f3a"
             ],
             [
              0.8888888888888888,
              "#fdca26"
             ],
             [
              1,
              "#f0f921"
             ]
            ],
            "type": "contour"
           }
          ],
          "contourcarpet": [
           {
            "colorbar": {
             "outlinewidth": 0,
             "ticks": ""
            },
            "type": "contourcarpet"
           }
          ],
          "heatmap": [
           {
            "colorbar": {
             "outlinewidth": 0,
             "ticks": ""
            },
            "colorscale": [
             [
              0,
              "#0d0887"
             ],
             [
              0.1111111111111111,
              "#46039f"
             ],
             [
              0.2222222222222222,
              "#7201a8"
             ],
             [
              0.3333333333333333,
              "#9c179e"
             ],
             [
              0.4444444444444444,
              "#bd3786"
             ],
             [
              0.5555555555555556,
              "#d8576b"
             ],
             [
              0.6666666666666666,
              "#ed7953"
             ],
             [
              0.7777777777777778,
              "#fb9f3a"
             ],
             [
              0.8888888888888888,
              "#fdca26"
             ],
             [
              1,
              "#f0f921"
             ]
            ],
            "type": "heatmap"
           }
          ],
          "heatmapgl": [
           {
            "colorbar": {
             "outlinewidth": 0,
             "ticks": ""
            },
            "colorscale": [
             [
              0,
              "#0d0887"
             ],
             [
              0.1111111111111111,
              "#46039f"
             ],
             [
              0.2222222222222222,
              "#7201a8"
             ],
             [
              0.3333333333333333,
              "#9c179e"
             ],
             [
              0.4444444444444444,
              "#bd3786"
             ],
             [
              0.5555555555555556,
              "#d8576b"
             ],
             [
              0.6666666666666666,
              "#ed7953"
             ],
             [
              0.7777777777777778,
              "#fb9f3a"
             ],
             [
              0.8888888888888888,
              "#fdca26"
             ],
             [
              1,
              "#f0f921"
             ]
            ],
            "type": "heatmapgl"
           }
          ],
          "histogram": [
           {
            "marker": {
             "colorbar": {
              "outlinewidth": 0,
              "ticks": ""
             }
            },
            "type": "histogram"
           }
          ],
          "histogram2d": [
           {
            "colorbar": {
             "outlinewidth": 0,
             "ticks": ""
            },
            "colorscale": [
             [
              0,
              "#0d0887"
             ],
             [
              0.1111111111111111,
              "#46039f"
             ],
             [
              0.2222222222222222,
              "#7201a8"
             ],
             [
              0.3333333333333333,
              "#9c179e"
             ],
             [
              0.4444444444444444,
              "#bd3786"
             ],
             [
              0.5555555555555556,
              "#d8576b"
             ],
             [
              0.6666666666666666,
              "#ed7953"
             ],
             [
              0.7777777777777778,
              "#fb9f3a"
             ],
             [
              0.8888888888888888,
              "#fdca26"
             ],
             [
              1,
              "#f0f921"
             ]
            ],
            "type": "histogram2d"
           }
          ],
          "histogram2dcontour": [
           {
            "colorbar": {
             "outlinewidth": 0,
             "ticks": ""
            },
            "colorscale": [
             [
              0,
              "#0d0887"
             ],
             [
              0.1111111111111111,
              "#46039f"
             ],
             [
              0.2222222222222222,
              "#7201a8"
             ],
             [
              0.3333333333333333,
              "#9c179e"
             ],
             [
              0.4444444444444444,
              "#bd3786"
             ],
             [
              0.5555555555555556,
              "#d8576b"
             ],
             [
              0.6666666666666666,
              "#ed7953"
             ],
             [
              0.7777777777777778,
              "#fb9f3a"
             ],
             [
              0.8888888888888888,
              "#fdca26"
             ],
             [
              1,
              "#f0f921"
             ]
            ],
            "type": "histogram2dcontour"
           }
          ],
          "mesh3d": [
           {
            "colorbar": {
             "outlinewidth": 0,
             "ticks": ""
            },
            "type": "mesh3d"
           }
          ],
          "parcoords": [
           {
            "line": {
             "colorbar": {
              "outlinewidth": 0,
              "ticks": ""
             }
            },
            "type": "parcoords"
           }
          ],
          "pie": [
           {
            "automargin": true,
            "type": "pie"
           }
          ],
          "scatter": [
           {
            "marker": {
             "colorbar": {
              "outlinewidth": 0,
              "ticks": ""
             }
            },
            "type": "scatter"
           }
          ],
          "scatter3d": [
           {
            "line": {
             "colorbar": {
              "outlinewidth": 0,
              "ticks": ""
             }
            },
            "marker": {
             "colorbar": {
              "outlinewidth": 0,
              "ticks": ""
             }
            },
            "type": "scatter3d"
           }
          ],
          "scattercarpet": [
           {
            "marker": {
             "colorbar": {
              "outlinewidth": 0,
              "ticks": ""
             }
            },
            "type": "scattercarpet"
           }
          ],
          "scattergeo": [
           {
            "marker": {
             "colorbar": {
              "outlinewidth": 0,
              "ticks": ""
             }
            },
            "type": "scattergeo"
           }
          ],
          "scattergl": [
           {
            "marker": {
             "colorbar": {
              "outlinewidth": 0,
              "ticks": ""
             }
            },
            "type": "scattergl"
           }
          ],
          "scattermapbox": [
           {
            "marker": {
             "colorbar": {
              "outlinewidth": 0,
              "ticks": ""
             }
            },
            "type": "scattermapbox"
           }
          ],
          "scatterpolar": [
           {
            "marker": {
             "colorbar": {
              "outlinewidth": 0,
              "ticks": ""
             }
            },
            "type": "scatterpolar"
           }
          ],
          "scatterpolargl": [
           {
            "marker": {
             "colorbar": {
              "outlinewidth": 0,
              "ticks": ""
             }
            },
            "type": "scatterpolargl"
           }
          ],
          "scatterternary": [
           {
            "marker": {
             "colorbar": {
              "outlinewidth": 0,
              "ticks": ""
             }
            },
            "type": "scatterternary"
           }
          ],
          "surface": [
           {
            "colorbar": {
             "outlinewidth": 0,
             "ticks": ""
            },
            "colorscale": [
             [
              0,
              "#0d0887"
             ],
             [
              0.1111111111111111,
              "#46039f"
             ],
             [
              0.2222222222222222,
              "#7201a8"
             ],
             [
              0.3333333333333333,
              "#9c179e"
             ],
             [
              0.4444444444444444,
              "#bd3786"
             ],
             [
              0.5555555555555556,
              "#d8576b"
             ],
             [
              0.6666666666666666,
              "#ed7953"
             ],
             [
              0.7777777777777778,
              "#fb9f3a"
             ],
             [
              0.8888888888888888,
              "#fdca26"
             ],
             [
              1,
              "#f0f921"
             ]
            ],
            "type": "surface"
           }
          ],
          "table": [
           {
            "cells": {
             "fill": {
              "color": "#EBF0F8"
             },
             "line": {
              "color": "white"
             }
            },
            "header": {
             "fill": {
              "color": "#C8D4E3"
             },
             "line": {
              "color": "white"
             }
            },
            "type": "table"
           }
          ]
         },
         "layout": {
          "annotationdefaults": {
           "arrowcolor": "#2a3f5f",
           "arrowhead": 0,
           "arrowwidth": 1
          },
          "coloraxis": {
           "colorbar": {
            "outlinewidth": 0,
            "ticks": ""
           }
          },
          "colorscale": {
           "diverging": [
            [
             0,
             "#8e0152"
            ],
            [
             0.1,
             "#c51b7d"
            ],
            [
             0.2,
             "#de77ae"
            ],
            [
             0.3,
             "#f1b6da"
            ],
            [
             0.4,
             "#fde0ef"
            ],
            [
             0.5,
             "#f7f7f7"
            ],
            [
             0.6,
             "#e6f5d0"
            ],
            [
             0.7,
             "#b8e186"
            ],
            [
             0.8,
             "#7fbc41"
            ],
            [
             0.9,
             "#4d9221"
            ],
            [
             1,
             "#276419"
            ]
           ],
           "sequential": [
            [
             0,
             "#0d0887"
            ],
            [
             0.1111111111111111,
             "#46039f"
            ],
            [
             0.2222222222222222,
             "#7201a8"
            ],
            [
             0.3333333333333333,
             "#9c179e"
            ],
            [
             0.4444444444444444,
             "#bd3786"
            ],
            [
             0.5555555555555556,
             "#d8576b"
            ],
            [
             0.6666666666666666,
             "#ed7953"
            ],
            [
             0.7777777777777778,
             "#fb9f3a"
            ],
            [
             0.8888888888888888,
             "#fdca26"
            ],
            [
             1,
             "#f0f921"
            ]
           ],
           "sequentialminus": [
            [
             0,
             "#0d0887"
            ],
            [
             0.1111111111111111,
             "#46039f"
            ],
            [
             0.2222222222222222,
             "#7201a8"
            ],
            [
             0.3333333333333333,
             "#9c179e"
            ],
            [
             0.4444444444444444,
             "#bd3786"
            ],
            [
             0.5555555555555556,
             "#d8576b"
            ],
            [
             0.6666666666666666,
             "#ed7953"
            ],
            [
             0.7777777777777778,
             "#fb9f3a"
            ],
            [
             0.8888888888888888,
             "#fdca26"
            ],
            [
             1,
             "#f0f921"
            ]
           ]
          },
          "colorway": [
           "#636efa",
           "#EF553B",
           "#00cc96",
           "#ab63fa",
           "#FFA15A",
           "#19d3f3",
           "#FF6692",
           "#B6E880",
           "#FF97FF",
           "#FECB52"
          ],
          "font": {
           "color": "#2a3f5f"
          },
          "geo": {
           "bgcolor": "white",
           "lakecolor": "white",
           "landcolor": "#E5ECF6",
           "showlakes": true,
           "showland": true,
           "subunitcolor": "white"
          },
          "hoverlabel": {
           "align": "left"
          },
          "hovermode": "closest",
          "mapbox": {
           "style": "light"
          },
          "paper_bgcolor": "white",
          "plot_bgcolor": "#E5ECF6",
          "polar": {
           "angularaxis": {
            "gridcolor": "white",
            "linecolor": "white",
            "ticks": ""
           },
           "bgcolor": "#E5ECF6",
           "radialaxis": {
            "gridcolor": "white",
            "linecolor": "white",
            "ticks": ""
           }
          },
          "scene": {
           "xaxis": {
            "backgroundcolor": "#E5ECF6",
            "gridcolor": "white",
            "gridwidth": 2,
            "linecolor": "white",
            "showbackground": true,
            "ticks": "",
            "zerolinecolor": "white"
           },
           "yaxis": {
            "backgroundcolor": "#E5ECF6",
            "gridcolor": "white",
            "gridwidth": 2,
            "linecolor": "white",
            "showbackground": true,
            "ticks": "",
            "zerolinecolor": "white"
           },
           "zaxis": {
            "backgroundcolor": "#E5ECF6",
            "gridcolor": "white",
            "gridwidth": 2,
            "linecolor": "white",
            "showbackground": true,
            "ticks": "",
            "zerolinecolor": "white"
           }
          },
          "shapedefaults": {
           "line": {
            "color": "#2a3f5f"
           }
          },
          "ternary": {
           "aaxis": {
            "gridcolor": "white",
            "linecolor": "white",
            "ticks": ""
           },
           "baxis": {
            "gridcolor": "white",
            "linecolor": "white",
            "ticks": ""
           },
           "bgcolor": "#E5ECF6",
           "caxis": {
            "gridcolor": "white",
            "linecolor": "white",
            "ticks": ""
           }
          },
          "title": {
           "x": 0.05
          },
          "xaxis": {
           "automargin": true,
           "gridcolor": "white",
           "linecolor": "white",
           "ticks": "",
           "title": {
            "standoff": 15
           },
           "zerolinecolor": "white",
           "zerolinewidth": 2
          },
          "yaxis": {
           "automargin": true,
           "gridcolor": "white",
           "linecolor": "white",
           "ticks": "",
           "title": {
            "standoff": 15
           },
           "zerolinecolor": "white",
           "zerolinewidth": 2
          }
         }
        },
        "title": {
         "text": "Emojis más usados"
        }
       }
      },
      "text/html": [
       "<div>                            <div id=\"a6009767-3ee6-4e64-9dfb-153b30b5f61d\" class=\"plotly-graph-div\" style=\"height:525px; width:100%;\"></div>            <script type=\"text/javascript\">                require([\"plotly\"], function(Plotly) {                    window.PLOTLYENV=window.PLOTLYENV || {};                                    if (document.getElementById(\"a6009767-3ee6-4e64-9dfb-153b30b5f61d\")) {                    Plotly.newPlot(                        \"a6009767-3ee6-4e64-9dfb-153b30b5f61d\",                        [{\"type\": \"bar\", \"x\": [\"\\ud83d\\udea8\", \"\\ud83c\\udfa5\", \"\\ud83c\\udde8\\ud83c\\uddf4\", \"\\ud83e\\udd29\", \"\\ud83d\\udc55\", \"\\ud83d\\ude12\", \"\\ud83d\\ude44\", \"\\ud83e\\udd14\", \"\\ud83e\\udd23\", \"\\ud83d\\ude14\", \"\\ud83c\\udfc6\", \"\\ud83c\\udde7\\ud83c\\uddf7\", \"\\ud83d\\udfe1\", \"\\ud83d\\udfe2\"], \"y\": [4, 2, 2, 2, 2, 1, 1, 1, 1, 1, 1, 1, 1, 1]}],                        {\"template\": {\"data\": {\"bar\": [{\"error_x\": {\"color\": \"#2a3f5f\"}, \"error_y\": {\"color\": \"#2a3f5f\"}, \"marker\": {\"line\": {\"color\": \"#E5ECF6\", \"width\": 0.5}}, \"type\": \"bar\"}], \"barpolar\": [{\"marker\": {\"line\": {\"color\": \"#E5ECF6\", \"width\": 0.5}}, \"type\": \"barpolar\"}], \"carpet\": [{\"aaxis\": {\"endlinecolor\": \"#2a3f5f\", \"gridcolor\": \"white\", \"linecolor\": \"white\", \"minorgridcolor\": \"white\", \"startlinecolor\": \"#2a3f5f\"}, \"baxis\": {\"endlinecolor\": \"#2a3f5f\", \"gridcolor\": \"white\", \"linecolor\": \"white\", \"minorgridcolor\": \"white\", \"startlinecolor\": \"#2a3f5f\"}, \"type\": \"carpet\"}], \"choropleth\": [{\"colorbar\": {\"outlinewidth\": 0, \"ticks\": \"\"}, \"type\": \"choropleth\"}], \"contour\": [{\"colorbar\": {\"outlinewidth\": 0, \"ticks\": \"\"}, \"colorscale\": [[0.0, \"#0d0887\"], [0.1111111111111111, \"#46039f\"], [0.2222222222222222, \"#7201a8\"], [0.3333333333333333, \"#9c179e\"], [0.4444444444444444, \"#bd3786\"], [0.5555555555555556, \"#d8576b\"], [0.6666666666666666, \"#ed7953\"], [0.7777777777777778, \"#fb9f3a\"], [0.8888888888888888, \"#fdca26\"], [1.0, \"#f0f921\"]], \"type\": \"contour\"}], \"contourcarpet\": [{\"colorbar\": {\"outlinewidth\": 0, \"ticks\": \"\"}, \"type\": \"contourcarpet\"}], \"heatmap\": [{\"colorbar\": {\"outlinewidth\": 0, \"ticks\": \"\"}, \"colorscale\": [[0.0, \"#0d0887\"], [0.1111111111111111, \"#46039f\"], [0.2222222222222222, \"#7201a8\"], [0.3333333333333333, \"#9c179e\"], [0.4444444444444444, \"#bd3786\"], [0.5555555555555556, \"#d8576b\"], [0.6666666666666666, \"#ed7953\"], [0.7777777777777778, \"#fb9f3a\"], [0.8888888888888888, \"#fdca26\"], [1.0, \"#f0f921\"]], \"type\": \"heatmap\"}], \"heatmapgl\": [{\"colorbar\": {\"outlinewidth\": 0, \"ticks\": \"\"}, \"colorscale\": [[0.0, \"#0d0887\"], [0.1111111111111111, \"#46039f\"], [0.2222222222222222, \"#7201a8\"], [0.3333333333333333, \"#9c179e\"], [0.4444444444444444, \"#bd3786\"], [0.5555555555555556, \"#d8576b\"], [0.6666666666666666, \"#ed7953\"], [0.7777777777777778, \"#fb9f3a\"], [0.8888888888888888, \"#fdca26\"], [1.0, \"#f0f921\"]], \"type\": \"heatmapgl\"}], \"histogram\": [{\"marker\": {\"colorbar\": {\"outlinewidth\": 0, \"ticks\": \"\"}}, \"type\": \"histogram\"}], \"histogram2d\": [{\"colorbar\": {\"outlinewidth\": 0, \"ticks\": \"\"}, \"colorscale\": [[0.0, \"#0d0887\"], [0.1111111111111111, \"#46039f\"], [0.2222222222222222, \"#7201a8\"], [0.3333333333333333, \"#9c179e\"], [0.4444444444444444, \"#bd3786\"], [0.5555555555555556, \"#d8576b\"], [0.6666666666666666, \"#ed7953\"], [0.7777777777777778, \"#fb9f3a\"], [0.8888888888888888, \"#fdca26\"], [1.0, \"#f0f921\"]], \"type\": \"histogram2d\"}], \"histogram2dcontour\": [{\"colorbar\": {\"outlinewidth\": 0, \"ticks\": \"\"}, \"colorscale\": [[0.0, \"#0d0887\"], [0.1111111111111111, \"#46039f\"], [0.2222222222222222, \"#7201a8\"], [0.3333333333333333, \"#9c179e\"], [0.4444444444444444, \"#bd3786\"], [0.5555555555555556, \"#d8576b\"], [0.6666666666666666, \"#ed7953\"], [0.7777777777777778, \"#fb9f3a\"], [0.8888888888888888, \"#fdca26\"], [1.0, \"#f0f921\"]], \"type\": \"histogram2dcontour\"}], \"mesh3d\": [{\"colorbar\": {\"outlinewidth\": 0, \"ticks\": \"\"}, \"type\": \"mesh3d\"}], \"parcoords\": [{\"line\": {\"colorbar\": {\"outlinewidth\": 0, \"ticks\": \"\"}}, \"type\": \"parcoords\"}], \"pie\": [{\"automargin\": true, \"type\": \"pie\"}], \"scatter\": [{\"marker\": {\"colorbar\": {\"outlinewidth\": 0, \"ticks\": \"\"}}, \"type\": \"scatter\"}], \"scatter3d\": [{\"line\": {\"colorbar\": {\"outlinewidth\": 0, \"ticks\": \"\"}}, \"marker\": {\"colorbar\": {\"outlinewidth\": 0, \"ticks\": \"\"}}, \"type\": \"scatter3d\"}], \"scattercarpet\": [{\"marker\": {\"colorbar\": {\"outlinewidth\": 0, \"ticks\": \"\"}}, \"type\": \"scattercarpet\"}], \"scattergeo\": [{\"marker\": {\"colorbar\": {\"outlinewidth\": 0, \"ticks\": \"\"}}, \"type\": \"scattergeo\"}], \"scattergl\": [{\"marker\": {\"colorbar\": {\"outlinewidth\": 0, \"ticks\": \"\"}}, \"type\": \"scattergl\"}], \"scattermapbox\": [{\"marker\": {\"colorbar\": {\"outlinewidth\": 0, \"ticks\": \"\"}}, \"type\": \"scattermapbox\"}], \"scatterpolar\": [{\"marker\": {\"colorbar\": {\"outlinewidth\": 0, \"ticks\": \"\"}}, \"type\": \"scatterpolar\"}], \"scatterpolargl\": [{\"marker\": {\"colorbar\": {\"outlinewidth\": 0, \"ticks\": \"\"}}, \"type\": \"scatterpolargl\"}], \"scatterternary\": [{\"marker\": {\"colorbar\": {\"outlinewidth\": 0, \"ticks\": \"\"}}, \"type\": \"scatterternary\"}], \"surface\": [{\"colorbar\": {\"outlinewidth\": 0, \"ticks\": \"\"}, \"colorscale\": [[0.0, \"#0d0887\"], [0.1111111111111111, \"#46039f\"], [0.2222222222222222, \"#7201a8\"], [0.3333333333333333, \"#9c179e\"], [0.4444444444444444, \"#bd3786\"], [0.5555555555555556, \"#d8576b\"], [0.6666666666666666, \"#ed7953\"], [0.7777777777777778, \"#fb9f3a\"], [0.8888888888888888, \"#fdca26\"], [1.0, \"#f0f921\"]], \"type\": \"surface\"}], \"table\": [{\"cells\": {\"fill\": {\"color\": \"#EBF0F8\"}, \"line\": {\"color\": \"white\"}}, \"header\": {\"fill\": {\"color\": \"#C8D4E3\"}, \"line\": {\"color\": \"white\"}}, \"type\": \"table\"}]}, \"layout\": {\"annotationdefaults\": {\"arrowcolor\": \"#2a3f5f\", \"arrowhead\": 0, \"arrowwidth\": 1}, \"coloraxis\": {\"colorbar\": {\"outlinewidth\": 0, \"ticks\": \"\"}}, \"colorscale\": {\"diverging\": [[0, \"#8e0152\"], [0.1, \"#c51b7d\"], [0.2, \"#de77ae\"], [0.3, \"#f1b6da\"], [0.4, \"#fde0ef\"], [0.5, \"#f7f7f7\"], [0.6, \"#e6f5d0\"], [0.7, \"#b8e186\"], [0.8, \"#7fbc41\"], [0.9, \"#4d9221\"], [1, \"#276419\"]], \"sequential\": [[0.0, \"#0d0887\"], [0.1111111111111111, \"#46039f\"], [0.2222222222222222, \"#7201a8\"], [0.3333333333333333, \"#9c179e\"], [0.4444444444444444, \"#bd3786\"], [0.5555555555555556, \"#d8576b\"], [0.6666666666666666, \"#ed7953\"], [0.7777777777777778, \"#fb9f3a\"], [0.8888888888888888, \"#fdca26\"], [1.0, \"#f0f921\"]], \"sequentialminus\": [[0.0, \"#0d0887\"], [0.1111111111111111, \"#46039f\"], [0.2222222222222222, \"#7201a8\"], [0.3333333333333333, \"#9c179e\"], [0.4444444444444444, \"#bd3786\"], [0.5555555555555556, \"#d8576b\"], [0.6666666666666666, \"#ed7953\"], [0.7777777777777778, \"#fb9f3a\"], [0.8888888888888888, \"#fdca26\"], [1.0, \"#f0f921\"]]}, \"colorway\": [\"#636efa\", \"#EF553B\", \"#00cc96\", \"#ab63fa\", \"#FFA15A\", \"#19d3f3\", \"#FF6692\", \"#B6E880\", \"#FF97FF\", \"#FECB52\"], \"font\": {\"color\": \"#2a3f5f\"}, \"geo\": {\"bgcolor\": \"white\", \"lakecolor\": \"white\", \"landcolor\": \"#E5ECF6\", \"showlakes\": true, \"showland\": true, \"subunitcolor\": \"white\"}, \"hoverlabel\": {\"align\": \"left\"}, \"hovermode\": \"closest\", \"mapbox\": {\"style\": \"light\"}, \"paper_bgcolor\": \"white\", \"plot_bgcolor\": \"#E5ECF6\", \"polar\": {\"angularaxis\": {\"gridcolor\": \"white\", \"linecolor\": \"white\", \"ticks\": \"\"}, \"bgcolor\": \"#E5ECF6\", \"radialaxis\": {\"gridcolor\": \"white\", \"linecolor\": \"white\", \"ticks\": \"\"}}, \"scene\": {\"xaxis\": {\"backgroundcolor\": \"#E5ECF6\", \"gridcolor\": \"white\", \"gridwidth\": 2, \"linecolor\": \"white\", \"showbackground\": true, \"ticks\": \"\", \"zerolinecolor\": \"white\"}, \"yaxis\": {\"backgroundcolor\": \"#E5ECF6\", \"gridcolor\": \"white\", \"gridwidth\": 2, \"linecolor\": \"white\", \"showbackground\": true, \"ticks\": \"\", \"zerolinecolor\": \"white\"}, \"zaxis\": {\"backgroundcolor\": \"#E5ECF6\", \"gridcolor\": \"white\", \"gridwidth\": 2, \"linecolor\": \"white\", \"showbackground\": true, \"ticks\": \"\", \"zerolinecolor\": \"white\"}}, \"shapedefaults\": {\"line\": {\"color\": \"#2a3f5f\"}}, \"ternary\": {\"aaxis\": {\"gridcolor\": \"white\", \"linecolor\": \"white\", \"ticks\": \"\"}, \"baxis\": {\"gridcolor\": \"white\", \"linecolor\": \"white\", \"ticks\": \"\"}, \"bgcolor\": \"#E5ECF6\", \"caxis\": {\"gridcolor\": \"white\", \"linecolor\": \"white\", \"ticks\": \"\"}}, \"title\": {\"x\": 0.05}, \"xaxis\": {\"automargin\": true, \"gridcolor\": \"white\", \"linecolor\": \"white\", \"ticks\": \"\", \"title\": {\"standoff\": 15}, \"zerolinecolor\": \"white\", \"zerolinewidth\": 2}, \"yaxis\": {\"automargin\": true, \"gridcolor\": \"white\", \"linecolor\": \"white\", \"ticks\": \"\", \"title\": {\"standoff\": 15}, \"zerolinecolor\": \"white\", \"zerolinewidth\": 2}}}, \"title\": {\"text\": \"Emojis m\\u00e1s usados\"}},                        {\"responsive\": true}                    ).then(function(){\n",
       "                            \n",
       "var gd = document.getElementById('a6009767-3ee6-4e64-9dfb-153b30b5f61d');\n",
       "var x = new MutationObserver(function (mutations, observer) {{\n",
       "        var display = window.getComputedStyle(gd).display;\n",
       "        if (!display || display === 'none') {{\n",
       "            console.log([gd, 'removed!']);\n",
       "            Plotly.purge(gd);\n",
       "            observer.disconnect();\n",
       "        }}\n",
       "}});\n",
       "\n",
       "// Listen for the removal of the full notebook cells\n",
       "var notebookContainer = gd.closest('#notebook-container');\n",
       "if (notebookContainer) {{\n",
       "    x.observe(notebookContainer, {childList: true});\n",
       "}}\n",
       "\n",
       "// Listen for the clearing of the current output cell\n",
       "var outputEl = gd.closest('.output');\n",
       "if (outputEl) {{\n",
       "    x.observe(outputEl, {childList: true});\n",
       "}}\n",
       "\n",
       "                        })                };                });            </script>        </div>"
      ]
     },
     "metadata": {},
     "output_type": "display_data"
    }
   ],
   "source": [
    "trace = go.Bar(x=temp_emojis.emoji.values[:15],\n",
    "               y=temp_emojis.cnt.values[:15])\n",
    "\n",
    "layout = go.Layout(title='Emojis más usados')\n",
    "\n",
    "fig = go.Figure(data=[trace], layout=layout)\n",
    "iplot(fig)"
   ]
  }
 ],
 "metadata": {
  "kernelspec": {
   "display_name": "Python 3",
   "language": "python",
   "name": "python3"
  },
  "language_info": {
   "codemirror_mode": {
    "name": "ipython",
    "version": 3
   },
   "file_extension": ".py",
   "mimetype": "text/x-python",
   "name": "python",
   "nbconvert_exporter": "python",
   "pygments_lexer": "ipython3",
   "version": "3.8.3"
  }
 },
 "nbformat": 4,
 "nbformat_minor": 2
}
